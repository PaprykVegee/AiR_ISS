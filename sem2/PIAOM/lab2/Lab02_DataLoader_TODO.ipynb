{
 "cells": [
  {
   "cell_type": "markdown",
   "metadata": {},
   "source": [
    "# Laboratorium 2: DataLoadery i prosta sieć CNN (MedMNIST – PneumoniaMNIST)\n",
    " \n",
    "**Cel:** nauczyć się przygotowywania **własnego Datasetu** w PyTorch oraz wykorzystać go do **szybkiego treningu prostej sieci CNN** na małym, medycznym zbiorze danych.\n",
    "\n",
    "\n",
    "> **Dataset:** użyjemy **PneumoniaMNIST** z kolekcji **MedMNIST** – to mały, 2-klasowy zbiór obrazów RTG płuc (zapalenie płuc vs brak). Dataset zostanie **automatycznie pobrany** w notebooku. Użyty zostanie też dataset **OrganMNIST3D** do klasyfikacji organów na podstawie danych trójwymiarowych."
   ]
  },
  {
   "cell_type": "markdown",
   "metadata": {},
   "source": [
    "## 0) Instalacja i importy"
   ]
  },
  {
   "cell_type": "code",
   "execution_count": 37,
   "metadata": {},
   "outputs": [
    {
     "name": "stdout",
     "output_type": "stream",
     "text": [
      "PyTorch: 2.7.1+cu128\n"
     ]
    }
   ],
   "source": [
    "# !pip -q install medmnist torchmetrics tqdm --extra-index-url https://download.pytorch.org/whl/cpu\n",
    "\n",
    "import os, sys, time, json, math, random\n",
    "import numpy as np\n",
    "import matplotlib.pyplot as plt\n",
    "from tqdm.auto import tqdm\n",
    "\n",
    "import torch\n",
    "import torch.nn as nn\n",
    "import torch.nn.functional as F\n",
    "from torch.utils.data import Dataset, DataLoader, random_split\n",
    "from torchvision import transforms\n",
    "\n",
    "from tqdm.auto import tqdm\n",
    "from torchmetrics.classification import BinaryAccuracy, BinaryConfusionMatrix\n",
    "\n",
    "import medmnist\n",
    "from medmnist import PneumoniaMNIST\n",
    "from medmnist import INFO\n",
    "\n",
    "import PIL.Image as Image\n",
    " \n",
    "from sklearn.metrics import ConfusionMatrixDisplay, confusion_matrix\n",
    "\n",
    "print(\"PyTorch:\", torch.__version__)"
   ]
  },
  {
   "cell_type": "markdown",
   "metadata": {},
   "source": [
    "## 1) Pobranie i eksploracja danych (MedMNIST – PneumoniaMNIST)\n",
    "\n",
    "Skrypt automatycznie pobiera zbiór **PneumoniaMNIST**. Poniższy kod sprawdza rozmiar danych i etykiety.\n",
    "Wyświetlone zostaje również 6 pierwszych próbek z tego zbioru."
   ]
  },
  {
   "cell_type": "code",
   "execution_count": 38,
   "metadata": {},
   "outputs": [
    {
     "name": "stdout",
     "output_type": "stream",
     "text": [
      "Opis: The PneumoniaMNIST is based on a prior dataset of 5,856 pediatric chest X-Ray images. The task is binary-class classification of pneumonia against normal. We split the source training set with a ratio of 9:1 into training and validation set and use its source validation set as the test set. The source images are gray-scale, and their sizes are (384−2,916)×(127−2,713). We center-crop the images and resize them into 1×28×28.\n",
      "Liczba klas: 2 ; klasy: {'0': 'normal', '1': 'pneumonia'}\n",
      "Rozmiar obrazów: (28, 28)\n",
      "Rozmiary: 4708 524 624\n"
     ]
    },
    {
     "data": {
      "image/png": "[encoded data removed]",
      "text/plain": [
       "<Figure size 1000x200 with 6 Axes>"
      ]
     },
     "metadata": {},
     "output_type": "display_data"
    }
   ],
   "source": [
    "DATA_ROOT = \"./data/medmnist\"\n",
    "os.makedirs(DATA_ROOT, exist_ok=True)\n",
    "\n",
    "info = INFO['pneumoniamnist']\n",
    "print(\"Opis:\", info['description'])\n",
    "print(\"Liczba klas:\", len(info['label']), \"; klasy:\", info['label'])\n",
    "\n",
    "# Print image shape using the first image in the train set\n",
    "sample_img, _ = PneumoniaMNIST(split='train', download=True, root=DATA_ROOT, as_rgb=False)[0]\n",
    "print(\"Rozmiar obrazów:\", np.array(sample_img).shape)\n",
    "\n",
    "train_set_raw = PneumoniaMNIST(split='train', download=True, root=DATA_ROOT, as_rgb=False)\n",
    "val_set_raw   = PneumoniaMNIST(split='val',   download=True, root=DATA_ROOT, as_rgb=False)\n",
    "test_set_raw  = PneumoniaMNIST(split='test',  download=True, root=DATA_ROOT, as_rgb=False)\n",
    "\n",
    "print(\"Rozmiary:\", len(train_set_raw), len(val_set_raw), len(test_set_raw))\n",
    "\n",
    "fig, axes = plt.subplots(1, 6, figsize=(10,2))\n",
    "for i in range(6):\n",
    "    img, label = train_set_raw[i]\n",
    "    img_np = np.array(img)\n",
    "    axes[i].imshow(img_np, cmap='gray')\n",
    "    axes[i].set_title(f\"y={int(label.squeeze().item())}\")\n",
    "    axes[i].axis('off')\n",
    "plt.tight_layout(); plt.show()"
   ]
  },
  {
   "cell_type": "markdown",
   "metadata": {},
   "source": [
    "## Zadanie 1 – Własny `Dataset` i `DataLoader`\n",
    "\n",
    "W pierwszym kroku chcemy przygotować własny Datasoader dla zbioru PneumoniaMNIST. Dla popularnych zbiorów danych zazwyczaj nie ma konieczności pisania własnego Datasetu, ale dobrze jest wiedzieć jak powinien on działać.\n",
    "Dataset jest klasą dziedziczącą po klasie `Dataset` z `torch.utils.data`, która pozwala na wczytywanie danych. Musi ona zawierać przynajmniej 3 metody: `__init__` - stworzenie i inicjalizacja obiektów klasy, `__len__` - sprawdzenie liczby dostępnych próbek, `__getitem__` - pobranie próbki o zadanym indeksie. Zazwyczaj Dataset odpowiedzialny jest również za transformacje i augmentację danych, ale tym będziemy zajmować się później.\n",
    "W naszym przypadku zbiór danych jest bardzo mały, więc możemy cały trzymać w pamięci, ale zazwyczaj dane są przechowywane na dysku i odczytywane dopiero wtedy, kiedy musimy je przetworzyć (czyli stosujemy lazy loading).\n",
    "\n",
    "1. Zaimplementuj klasę `PneumoniaCustomDataset`, która dziedziczy po klasie `Dataset`.\n",
    "2. Zaimplementuj metodę `__init__`, której argumentami jest zbiór obrazów oraz zbiór odpowiadających im etykiet. Powinny one zostać zapamiętane jak pola obiektu. Dla etykiet wywołaj dodatkowo metodę `.squeeze()`.\n",
    "3. Zaimplementuj metodę `__len__`, która sprawdza liczbę zapamiętanych podczas inicjalizacji obrazów.\n",
    "4. Zaimplementuj metodę `__getitem__`, której argumentem jest indeks pobieranej próbki. W tym miejscu powinniśmy zapewnić, że zwracane próbki są oczekiwanego typu i rozmiaru.\n",
    "5. Zacznij od pobrania obrazu i etykiety o zadanym indeksie.\n",
    "6. Następnie wykonaj konwersję obrazu do tensora za pomocą `transforms.ToTensor()(x)`.\n",
    "7. Wykonaj konwersję etykiet do tensora za pomocą `torch.tensot`. Docelowym typem danych powinien być `torch.long`.\n",
    "8. Zwróć próbkę danych oraz etykietę.\n",
    "9. Poza klasą stwórz 3 datasety: treningowy, walidacyjny i testowy. Dane oraz etykiety można pobrać z wcześniejszych danych, np. `train_set_raw.imgs` lub `train_set_raw.labels`.\n",
    "10. Wyświetl ile elementów zawiera każdy z nich."
   ]
  },
  {
   "cell_type": "code",
   "execution_count": 39,
   "metadata": {},
   "outputs": [],
   "source": [
    "# --- Zadanie 1\n",
    "\n",
    "class PneumoniaCustomDataset(Dataset):\n",
    "    def __init__(self, data, label):\n",
    "        self.data = data\n",
    "        self.labels = label  # nie squeeze()\n",
    "\n",
    "    def __len__(self):\n",
    "        return len(self.data)\n",
    "    \n",
    "    def __getitem__(self, index):\n",
    "        img = self.data[index]\n",
    "        label = self.labels[index]\n",
    "        label = torch.tensor(label, dtype=torch.long)\n",
    "        label = label.view(-1)  \n",
    "\n",
    "        return torch.tensor(img, dtype=torch.float32).unsqueeze(0), label.squeeze()\n",
    "\n",
    "    \n",
    "train_dataset = PneumoniaCustomDataset(train_set_raw.imgs, train_set_raw.labels)\n",
    "test_dataset = PneumoniaCustomDataset(test_set_raw.imgs, test_set_raw.labels)\n",
    "val_dataset = PneumoniaCustomDataset(val_set_raw.imgs, val_set_raw.labels)"
   ]
  },
  {
   "cell_type": "markdown",
   "metadata": {},
   "source": [
    "## Zadanie 2 –  DataLoadery: batching, shuffle, num_workers\n",
    "\n",
    "Z kolei celem DataLoaderu jest wydajne dostarczanie batchy danych do treningu. Nie dostarcza on pojedynczych próbek, lecz cały ich zbiór nazywany batchem. Zajmuje sie również mieszaniem danych, żeby nie były przekazywane w tej samej kolejności, pozwala na rónoległe wczytywanie danych i zwraca iterator, dzięki czemu łatwo jest przejść po wszystkich próbkach danych. Do stworzenia DataLoadera wykorzystuje się gotową klasę `DataLoader`. Nie trzeba jej implementować samodzielnie.\n",
    "\n",
    "1. Zacznij od zdefiniowania rozmiaru batchów `BATCH_SIZE` i liczby workerów `NUM_WORKERS`.\n",
    "2. Stwórz 3 DataLoadery - odpowiednio treningowy, walidacyjny i testowy. Pierwszym argumentem powinien być obiekt Dataset wykorzystywany do wczytania danych. Oprócz tego przekazujemy `batch_size`, `shuffle` (wartość boolean), `num_workers` i `pin_memory` (wartość boolean). Mieszania danych (shuffle) używa się tylko dla danych treningowych. `pin_memory` pozwala na szybsze kopiowanie danych w przypadku uczenia na GPU i wtedy warto ustawić `True`.\n",
    "3. Stwórz pętlę przechodzącą po danych treningowych. Pamiętej, że DataLoader zwrócił iterator. Sprawdź rozmiar pojenynczego zestawu treningowego."
   ]
  },
  {
   "cell_type": "code",
   "execution_count": 40,
   "metadata": {},
   "outputs": [
    {
     "name": "stderr",
     "output_type": "stream",
     "text": [
      "/tmp/ipykernel_5193/2217057973.py:7: DeprecationWarning: __array__ implementation doesn't accept a copy keyword, so passing copy=False failed. __array__ must implement 'dtype' and 'copy' keyword arguments. To learn more, see the migration guide https://numpy.org/devdocs/numpy_2_0_migration_guide.html#adapting-to-changes-in-the-copy-keyword\n",
      "  plt.imshow(np.array(next(iter(train_dataloader))[0][0]).transpose(1, 2, 0), cmap='gray')\n"
     ]
    },
    {
     "data": {
      "text/plain": [
       "Text(0.5, 1.0, 'tensor(1)')"
      ]
     },
     "execution_count": 40,
     "metadata": {},
     "output_type": "execute_result"
    },
    {
     "data": {
      "image/png": "[encoded data removed]",
      "text/plain": [
       "<Figure size 640x480 with 1 Axes>"
      ]
     },
     "metadata": {},
     "output_type": "display_data"
    }
   ],
   "source": [
    "# --- Zadanie 2\n",
    "\n",
    "train_dataloader = DataLoader(train_dataset, batch_size=32, shuffle=True, pin_memory=True)\n",
    "test_dataloader = DataLoader(test_dataset, batch_size=32, shuffle=False, pin_memory=True)\n",
    "val_dataloader = DataLoader(val_dataset, batch_size=32, shuffle=False, pin_memory=True)\n",
    "\n",
    "plt.imshow(np.array(next(iter(train_dataloader))[0][0]).transpose(1, 2, 0), cmap='gray')\n",
    "plt.title(next(iter(train_dataloader))[1][0])"
   ]
  },
  {
   "cell_type": "markdown",
   "metadata": {},
   "source": [
    "## Zadanie 3 – Prosta sieć CNN\n",
    "\n",
    "Teraz zaimplementujemy prostą sieć konwolucyjną, której celem będzie klasyfikacja pacjentów na podstawie zdjęć jako zdrowi lub chorzy.\n",
    "1. Zaimplementuj klasę `SimpleCNN`, która dziedziczy po klasie `nn.Module`. Taka klasa musi posiadać przynajmniej dwie metody: `__init__`, gdzie zdefiniowane są warstwy i parametry sieci, oraz `forward`, która określa jak dane przepływają przez sieć.\n",
    "2. Stwórz metodę `__init__`, która będzie zawierać dwie warstwy konwolucyjne `nn.Conv2d`, warstwę MaxPool `nn.MaxPool2d` i dwie warstwy liniowe `nn.Linear`. Wybierz rozmiar warstw konwolucyjnych oraz dobierz padding tak, aby rozmiar wyjściowy był taki sam jak wejściowy. Wybierz również liczbę kanałów wyjściowych z tych warstw.\n",
    "3. Dodaj warstwę pooling, tak, żeby zmniejszyła rozmiar o połowę.\n",
    "4. Stwórz dwie warstwy w pełni połączone. Rozmiar wejścia pierwszej z nich powinien być równy rozmiarowi pomnożonemu przez liczbę kanałów. Dobierz liczbę kanałów na wyjściu. Ostatnia warstwa powinna mieć na wyjściu tylko dwa kanały.\n",
    "5. Zaimplementuj metodę `forward`, której arguemntem jest próbka do przetworzenia. Wejście najpierw wchodzi na pierwszą warstwę konwolucyjną, później idzie do funkcji aktywacji ReLU `F.relu`, a dalej do warstwy poolingowej.\n",
    "Następnie te same operacje wykonujemy dla drugiej warstwy konwolucyjnej. Dalej spłaszczamy dane przed podaniem ich do warstwy w pełni połączonej `torch.flatten` (drugim argumentem powinno być `1`, żeby nie usunąć wymiaru batch). Po pierwszej z tych warstw wykorzystujemy funkcję aktywacji ReLU, a następnie podajnemy na drugą z tych warstw i zwracamy jej wynik.\n",
    "6. Cały schemat wygląda następująco: (1, 28, 28) --> Conv2d --> ReLU--> MaxPool2d(2x2) --> Conv2d --> ReLU --> MaxPool2d(2x2) --> Flatten --> Linear --> ReLU --> Linear --> logits.\n",
    "7. Poza klasą wybierz urządzenie na którym sieć ma być uruchomiona: `device = 'cuda' if torch.cuda.is_available() else 'cpu'`.\n",
    "8. Stwórz instancję sieci i załaduj ją do wybranego urządzenia za pomocą metody `.to`\n",
    "9. Zdefiniuj funkcję straty jako `nn.CrossEntropyLoss()` i optymalizator jako `torch.optim.Adam`. Pierwszym argumentem optymalizatora są parametry sieci `.parameters()`, a drugim `lr`, czyli learning rate, określający jak szybko parametry modelu mają się zmieniać.\n",
    "10. Wypisz warstwy modelu za pomocą `print`."
   ]
  },
  {
   "cell_type": "code",
   "execution_count": 41,
   "metadata": {},
   "outputs": [],
   "source": [
    "# --- Zadanie 3\n",
    "\n",
    "class SimpleCNN(nn.Module):\n",
    "  def __init__(self):\n",
    "    super(SimpleCNN, self).__init__()\n",
    "    self.conv1 = nn.Conv2d(in_channels=1, out_channels=16, kernel_size=3, padding=1)\n",
    "    self.conv2 = nn.Conv2d(in_channels=16, out_channels=32, kernel_size=3, padding=1)\n",
    "    self.pool = nn.MaxPool2d(kernel_size=2, stride=2)\n",
    "    self.fc1 = nn.Linear(32 * 7 * 7, 128)\n",
    "    self.fc2 = nn.Linear(128, 2)\n",
    "\n",
    "  def forward(self, x):\n",
    "    x = self.pool(F.relu(self.conv1(x)))\n",
    "    x = self.pool(F.relu(self.conv2(x)))\n",
    "    x = torch.flatten(x, 1)\n",
    "    x = F.relu(self.fc1(x))\n",
    "    x = self.fc2(x)\n",
    "    return x\n",
    "    \n",
    "device = \"cuda\" if torch.cuda.is_available() else 'cpu'\n",
    "\n",
    "model = SimpleCNN().to(device)\n",
    "\n",
    "# from torchvision import models\n",
    "# model = models.resnet18(weights=models.ResNet18_Weights.IMAGENET1K_V1)\n",
    "# model.conv1 = nn.Conv2d(1, 64, kernel_size=7, stride=2, padding=3, bias=False)\n",
    "# model.clf = nn.Linear(model.fc.in_features, 2)\n",
    "\n",
    "loss_fn = nn.CrossEntropyLoss()\n",
    "optim = torch.optim.Adam(params=model.parameters(), lr=1e-3)"
   ]
  },
  {
   "cell_type": "markdown",
   "metadata": {},
   "source": [
    "## Zadanie 4 – Trening\n",
    "\n",
    "Teraz konieczne jest przeprowadzenie treningu zdefiniowanego modelu.\n",
    "\n",
    "1. Zaimplementuj funkcję `run_epoch`, której zadaniem będzie wykonanie pojedynczej epoki treningu. Epoka to jedno pełne przejście modelu przez cały zbiór treningowy. Jej argumentami są: model sieci, DataLoader, optymalizator i urządzenie na którym sieć jest uruchomiona. Zakłądamy, że optymalizator jest przekazywany tylko w przypadku treningu, natomiast podczas ewaluacji wynosi `None`.\n",
    "2. Na początku funkcji sprawdź czy optymalizator nie jest `None`, a więc czy sieć powinna być uczona w tym wywołaniu funkcji.\n",
    "3. Jeśli ma być uczona, to ustaw ją w tryb treningu za pomocą metody `.train`. Jako argument podaj wynik wcześniejszego sprawdzenia.\n",
    "4. Zainicjalizuj `lossTotal`, `correctTotal` i `total` jako 0.0.\n",
    "5. Napisz pętlę, która przetwarza wszystkie dane z przekazanego DataLoadera.\n",
    "6. Prześlij dane do urządzenia za pomocą metody `.to`.\n",
    "7. Jeśli sieć ma być trenowana, to wyzeruj gradienty w optymalizatorze metodą `.zero_grad()`.\n",
    "8. Oblicz wyjście sieci dla danego wejścia.\n",
    "9. Olicz stratę dla przetworzonych danych za pomocą wybranej funkcji straty. Pierwszym argumentem jest wyście sieci, a drugim rzeczywiste etykiety.\n",
    "10. Jeśli sieć ma być uczona, to oblicz gradienty funkcji straty względem parametrów sieci i wykonaj krok optymalizatora. W tym celu wywołaj metodę `.backward()` obliczonej straty,a  następnie wywołaj metodę `.step()` optymalizatora.\n",
    "11. Dodaj obliczoną stratę do `lossTotal`.\n",
    "12. Sprawdź predykcje sieci dla przetworzonych danych. W tym celu wykorzystaj metodę `.argmax` względem wymiaru odpowiedzialnego za batch (jest on argumentem metody).\n",
    "13. Sprawdź ile predykcji było poprawnych. Porównaj wynik z poprzedniego punktu z etykietami, a następnie zsumuj wyniki porównania. Następnie skonwertuj wynikowy tensor na liczbę za pomocą metody `.item()` i dodaj wynik do `correctTotal`.\n",
    "14. Zaktualizuj liczbę wszystkich przetworzonych próbek `total`.\n",
    "15. Zwróć 'lossTotal' i 'correctTotal' podzielone przez liczbę przetworzonych próbek.\n",
    "16. Poza definicją funkcji zdefiniuj liczbę epok treningu. W naszym prostym przypadku powinny wystarczyć 2.\n",
    "17. Zaimplementuj pętlę, która wykona się tyle razy ile zdefiniowana liczba epok.\n",
    "18. W każdej iteracji pętli wywołaj zaimplementowaną funkcję dla zbioru treningowego. Następnie wyłącz oblicznie gradientów `with torch.no_grad():` i wewnątrz wywołaj tą samą funkcję dla zbioru walidacyjnego.\n",
    "19. Na koniec pętli, po każdej epoce, wyświetl numer epoki, stratę i dokładność zarówno dla zbioru treningowego, jak i walidacyjnego."
   ]
  },
  {
   "cell_type": "code",
   "execution_count": 42,
   "metadata": {},
   "outputs": [
    {
     "name": "stderr",
     "output_type": "stream",
     "text": [
      " 10%|███████████████▌                                                                                                                                            | 1/10 [00:00<00:04,  1.98it/s]"
     ]
    },
    {
     "name": "stdout",
     "output_type": "stream",
     "text": [
      "Epoka [1/10]\n",
      "  Trening:    strata = 0.8845, dokładność = 0.8800\n",
      "  Walidacja: strata = 0.4155, dokładność = 0.8381\n"
     ]
    },
    {
     "name": "stderr",
     "output_type": "stream",
     "text": [
      " 20%|███████████████████████████████▏                                                                                                                            | 2/10 [00:01<00:04,  1.93it/s]"
     ]
    },
    {
     "name": "stdout",
     "output_type": "stream",
     "text": [
      "Epoka [2/10]\n",
      "  Trening:    strata = 0.1334, dokładność = 0.9482\n",
      "  Walidacja: strata = 0.5204, dokładność = 0.8285\n"
     ]
    },
    {
     "name": "stderr",
     "output_type": "stream",
     "text": [
      " 30%|██████████████████████████████████████████████▊                                                                                                             | 3/10 [00:01<00:03,  1.92it/s]"
     ]
    },
    {
     "name": "stdout",
     "output_type": "stream",
     "text": [
      "Epoka [3/10]\n",
      "  Trening:    strata = 0.1149, dokładność = 0.9539\n",
      "  Walidacja: strata = 0.5841, dokładność = 0.8317\n"
     ]
    },
    {
     "name": "stderr",
     "output_type": "stream",
     "text": [
      " 40%|██████████████████████████████████████████████████████████████▍                                                                                             | 4/10 [00:02<00:03,  1.97it/s]"
     ]
    },
    {
     "name": "stdout",
     "output_type": "stream",
     "text": [
      "Epoka [4/10]\n",
      "  Trening:    strata = 0.1013, dokładność = 0.9586\n",
      "  Walidacja: strata = 0.4606, dokładność = 0.8606\n"
     ]
    },
    {
     "name": "stderr",
     "output_type": "stream",
     "text": [
      " 50%|██████████████████████████████████████████████████████████████████████████████                                                                              | 5/10 [00:02<00:02,  1.93it/s]"
     ]
    },
    {
     "name": "stdout",
     "output_type": "stream",
     "text": [
      "Epoka [5/10]\n",
      "  Trening:    strata = 0.0897, dokładność = 0.9641\n",
      "  Walidacja: strata = 0.6793, dokładność = 0.7933\n"
     ]
    },
    {
     "name": "stderr",
     "output_type": "stream",
     "text": [
      " 60%|█████████████████████████████████████████████████████████████████████████████████████████████▌                                                              | 6/10 [00:03<00:02,  1.97it/s]"
     ]
    },
    {
     "name": "stdout",
     "output_type": "stream",
     "text": [
      "Epoka [6/10]\n",
      "  Trening:    strata = 0.1063, dokładność = 0.9605\n",
      "  Walidacja: strata = 0.5803, dokładność = 0.8237\n"
     ]
    },
    {
     "name": "stderr",
     "output_type": "stream",
     "text": [
      " 70%|█████████████████████████████████████████████████████████████████████████████████████████████████████████████▏                                              | 7/10 [00:03<00:01,  1.96it/s]"
     ]
    },
    {
     "name": "stdout",
     "output_type": "stream",
     "text": [
      "Epoka [7/10]\n",
      "  Trening:    strata = 0.0971, dokładność = 0.9622\n",
      "  Walidacja: strata = 0.9553, dokładność = 0.7965\n"
     ]
    },
    {
     "name": "stderr",
     "output_type": "stream",
     "text": [
      " 80%|████████████████████████████████████████████████████████████████████████████████████████████████████████████████████████████▊                               | 8/10 [00:04<00:01,  1.94it/s]"
     ]
    },
    {
     "name": "stdout",
     "output_type": "stream",
     "text": [
      "Epoka [8/10]\n",
      "  Trening:    strata = 0.0858, dokładność = 0.9694\n",
      "  Walidacja: strata = 0.6056, dokładność = 0.8446\n"
     ]
    },
    {
     "name": "stderr",
     "output_type": "stream",
     "text": [
      " 90%|████████████████████████████████████████████████████████████████████████████████████████████████████████████████████████████████████████████▍               | 9/10 [00:04<00:00,  1.97it/s]"
     ]
    },
    {
     "name": "stdout",
     "output_type": "stream",
     "text": [
      "Epoka [9/10]\n",
      "  Trening:    strata = 0.0936, dokładność = 0.9630\n",
      "  Walidacja: strata = 0.4765, dokładność = 0.8750\n"
     ]
    },
    {
     "name": "stderr",
     "output_type": "stream",
     "text": [
      "100%|███████████████████████████████████████████████████████████████████████████████████████████████████████████████████████████████████████████████████████████| 10/10 [00:05<00:00,  1.95it/s]"
     ]
    },
    {
     "name": "stdout",
     "output_type": "stream",
     "text": [
      "Epoka [10/10]\n",
      "  Trening:    strata = 0.0811, dokładność = 0.9698\n",
      "  Walidacja: strata = 0.7713, dokładność = 0.8125\n"
     ]
    },
    {
     "name": "stderr",
     "output_type": "stream",
     "text": [
      "\n"
     ]
    }
   ],
   "source": [
    "# --- Zadanie 4\n",
    "\n",
    "\n",
    "def run_epoch(model, dataloader, device, criterion, optimizer=None):\n",
    "    is_train = optimizer is not None\n",
    "    model.train(is_train)\n",
    "\n",
    "    lossTotal = 0.0\n",
    "    correctTotal = 0\n",
    "    total = 0\n",
    "\n",
    "    for x, y in dataloader:\n",
    "        x = x.to(device)\n",
    "        y = y.to(device).long().view(-1) \n",
    "\n",
    "        if is_train:\n",
    "            optimizer.zero_grad()\n",
    "\n",
    "        outputs = model(x)\n",
    "        loss = criterion(outputs, y)\n",
    "\n",
    "        if is_train:\n",
    "            loss.backward()\n",
    "            optimizer.step()\n",
    "\n",
    "        lossTotal += loss.item() * x.size(0)\n",
    "        preds = outputs.argmax(dim=1)\n",
    "        correctTotal += (preds == y.long()).sum().item()\n",
    "        total += y.size(0)\n",
    "\n",
    "    return lossTotal / total, correctTotal / total\n",
    "\n",
    "EPOCHS = 10\n",
    "\n",
    "for epoch in tqdm(range(EPOCHS)):\n",
    "    train_loss, train_acc = run_epoch(model, train_dataloader, device, loss_fn, optim)\n",
    "\n",
    "    with torch.inference_mode():\n",
    "        val_loss, val_acc = run_epoch(model, test_dataloader, device, loss_fn, None)\n",
    "\n",
    "    print(f\"Epoka [{epoch+1}/{EPOCHS}]\")\n",
    "    print(f\"  Trening:    strata = {train_loss:.4f}, dokładność = {train_acc:.4f}\")\n",
    "    print(f\"  Walidacja: strata = {val_loss:.4f}, dokładność = {val_acc:.4f}\")\n"
   ]
  },
  {
   "cell_type": "markdown",
   "metadata": {},
   "source": [
    "## Zadanie 5 – Ewaluacja (accuracy, macierz pomyłek)\n",
    "\n",
    "Kolejnym elementem jest sprawdzenie skuteczności zaprojektowanego rozwiązania dla zbioru testowego.\n",
    "\n",
    "1. Przełącz model w tryb ewaluacji za pomocą metody `.eval()`.\n",
    "2. Zainicjalizuj wartości `correct` i `total` jako 0. Zaincjalizuj również `cm` jako zerową macierz o rozmiarze $2 \\times 2$. W zmiennej `cm` przechowywać będziemy macierz pomyłek. Jest to tabela, w której porównuje się rzeczywiste etykiety z predykcjami modelu.\n",
    "3. Wyłącz obliczanie gradientów w bloku kodu za pomocą `with torch.no_grad():`. Wewnątrz tego bloku wykonaj przejście po zbiorze testowym. Przedykcje modelu (po `.argmax`) prześlij na CPU za pomocą metody `.cpu()`. Upewnij się, że etykiety również są na CPU wywołując `.cpu()`.\n",
    "4. Oblicz `correct` i `total` podobnie jak w poprzednim zadaniu.\n",
    "5. Oprócz tego musimy zaktualizować macierz pomyłek. W tym celu do aktualnej macierzy dodajemy nową macierz, utworzoną na podstawie predykcji i etykiet. Macierz pomyłek tworzymy za pomocą funkcji `confusion_matrix`. Pierwszym argumentem są rzeczywiste etykiety, drugim są obliczone predykcje, a trzecim jest wektor etykiet `labels` (w naszym przypadku `[0, 1]`).\n",
    "6. Na zewnątrz pętli oblicz i wyświetl dokładność dla zbioru testowego.\n",
    "7. Na koniec wyświetl macierz pomyłek. Stwórz wizualizację za pomocą funkcji `ConfusionMatrixDisplay`. Jako argument `confusion_matrix` podaj wyznaczoną macierz pomyłek, a jako argument `display_labels` podaj wektor nazw dla klas `['normal','pneumonia']`. Wyświetl wynik za pomocą metody `.plot()`, a następnie `plt.show()`."
   ]
  },
  {
   "cell_type": "code",
   "execution_count": 43,
   "metadata": {},
   "outputs": [
    {
     "name": "stdout",
     "output_type": "stream",
     "text": [
      "Dokładność na zbiorze testowym: 0.8125\n"
     ]
    },
    {
     "data": {
      "image/png": "[encoded data removed]",
      "text/plain": [
       "<Figure size 640x480 with 2 Axes>"
      ]
     },
     "metadata": {},
     "output_type": "display_data"
    }
   ],
   "source": [
    "# --- Zadanie 5\n",
    "\n",
    "model.eval()\n",
    "\n",
    "correct = 0\n",
    "total = 0\n",
    "cm = torch.zeros((2, 2), dtype=torch.int32)  # macierz 2x2 dla dwóch klas\n",
    "\n",
    "with torch.inference_mode():\n",
    "    for x, y in test_dataloader:\n",
    "        x = x.to(device)\n",
    "        y = y.to(device)\n",
    "\n",
    "        outputs = model(x) \n",
    "        preds = outputs.argmax(dim=1)\n",
    "\n",
    "        correct += (preds == y).sum().item()\n",
    "        total += y.size(0)\n",
    "\n",
    "        cm += torch.tensor(\n",
    "            confusion_matrix(y.cpu(), preds.cpu(), labels=[0,1]),\n",
    "            dtype=torch.int32\n",
    "        )\n",
    "\n",
    "accuracy = correct / total\n",
    "print(f\"Dokładność na zbiorze testowym: {accuracy:.4f}\")\n",
    "\n",
    "# --- 7. Wyświetlenie macierzy pomyłek\n",
    "disp = ConfusionMatrixDisplay(confusion_matrix=cm.numpy(),\n",
    "                              display_labels=['normal','pneumonia'])\n",
    "disp.plot(cmap=plt.cm.Blues)\n",
    "plt.show()\n"
   ]
  },
  {
   "cell_type": "markdown",
   "metadata": {},
   "source": [
    "## Zadanie 6 – Zapis modelu\n",
    "\n",
    "Ostatnim etapem jest zapisanie słownika z parametrami modelu.\n",
    "1. Zdefiniuj ścieżkę do pliku.\n",
    "2. Pobierz słownik z parametrami za pomocą metody `.state_dict()`.\n",
    "3. Zapisz słownik za pomocą funkcji `torch.save`."
   ]
  },
  {
   "cell_type": "code",
   "execution_count": 44,
   "metadata": {},
   "outputs": [],
   "source": [
    "# --- Zadanie 6"
   ]
  },
  {
   "cell_type": "markdown",
   "metadata": {},
   "source": [
    "## Zadanie 7 – Wykonaj podobną klasyfikację dla zbioru danych OrganMNIST3D\n",
    "\n",
    "Poniższy kod automatycznie pobiera dane."
   ]
  },
  {
   "cell_type": "code",
   "execution_count": 63,
   "metadata": {},
   "outputs": [
    {
     "name": "stdout",
     "output_type": "stream",
     "text": [
      "Opis: The source of the OrganMNIST3D is the same as that of the Organ{A,C,S}MNIST. Instead of 2D images, we directly use the 3D bounding boxes and process the images into 28×28×28 to perform multi-class classification of 11 body organs. The same 115 and 16 CT scans as the Organ{A,C,S}MNIST from the source training set are used as training and validation set, respectively, and the same 70 CT scans as the Organ{A,C,S}MNIST from the source test set are treated as the test set.\n",
      "Liczba klas: 11 ; klasy: {'0': 'liver', '1': 'kidney-right', '2': 'kidney-left', '3': 'femur-right', '4': 'femur-left', '5': 'bladder', '6': 'heart', '7': 'lung-right', '8': 'lung-left', '9': 'spleen', '10': 'pancreas'}\n",
      "Rozmiar obrazów: (1, 28, 28, 28)\n",
      "Rozmiary: 971 161 610\n"
     ]
    },
    {
     "data": {
      "image/png": "[encoded data removed]",
      "text/plain": [
       "<Figure size 900x300 with 3 Axes>"
      ]
     },
     "metadata": {},
     "output_type": "display_data"
    },
    {
     "name": "stdout",
     "output_type": "stream",
     "text": [
      "Przykładowa etykieta: 3\n"
     ]
    }
   ],
   "source": [
    "from medmnist import OrganMNIST3D, INFO\n",
    "\n",
    "DATA_ROOT = \"./data/medmnist\"\n",
    "os.makedirs(DATA_ROOT, exist_ok=True)\n",
    "\n",
    "info = INFO['organmnist3d']\n",
    "print(\"Opis:\", info['description'])\n",
    "num_classes = len(info['label'])\n",
    "print(\"Liczba klas:\", num_classes, \"; klasy:\", info['label'])\n",
    "\n",
    "# Print image shape using the first image in the train set\n",
    "sample_img, _ = OrganMNIST3D(split='train', download=True, root=DATA_ROOT, as_rgb=False)[0]\n",
    "print(\"Rozmiar obrazów:\", np.array(sample_img).shape)\n",
    "\n",
    "to_float32 = lambda x: torch.tensor(x, dtype=torch.float32) / 255.0\n",
    "\n",
    "train_raw = OrganMNIST3D(split='train', download=True, root=DATA_ROOT, as_rgb=False, transform=to_float32)\n",
    "val_raw   = OrganMNIST3D(split='val',   download=True, root=DATA_ROOT, as_rgb=False, transform=to_float32)\n",
    "test_raw  = OrganMNIST3D(split='test',  download=True, root=DATA_ROOT, as_rgb=False, transform=to_float32)\n",
    "\n",
    "print(\"Rozmiary:\", len(train_raw), len(val_raw), len(test_raw))\n",
    "\n",
    "# Szybki podgląd wolumenu 3D (3 losowe przekroje axial)\n",
    "sample_vol, sample_y = train_raw[0]   # numpy array shape (1,28,28,28), label np.int\n",
    "z_slices = sorted(random.sample(range(sample_vol.shape[-1]), 3))\n",
    "fig, axes = plt.subplots(1, 3, figsize=(9,3))\n",
    "for ax, z in zip(axes, z_slices):\n",
    "    ax.imshow(sample_vol[0, :, :, z], cmap='gray')\n",
    "    ax.set_title(f\"z={z}\")\n",
    "    ax.axis('off')\n",
    "plt.tight_layout(); plt.show()\n",
    "print(\"Przykładowa etykieta:\", int(sample_y.squeeze().item()))"
   ]
  },
  {
   "cell_type": "markdown",
   "metadata": {},
   "source": [
    "## Zadanie 8 – Stwórz DataLoader dla zbioru danych OrganMNIST3D\n",
    "\n",
    "Nie musisz pisać własnego Datasetu. Skorzystaj ze zwracanych przez funkcję `OrganMNIST3D`. Zwróć jaki teraz jest kształt danych."
   ]
  },
  {
   "cell_type": "code",
   "execution_count": 46,
   "metadata": {},
   "outputs": [
    {
     "name": "stdout",
     "output_type": "stream",
     "text": [
      "Dataset OrganMNIST3D of size 28 (organmnist3d)\n",
      "    Number of datapoints: 971\n",
      "    Root location: ./data/medmnist\n",
      "    Split: train\n",
      "    Task: multi-class\n",
      "    Number of channels: 1\n",
      "    Meaning of labels: {'0': 'liver', '1': 'kidney-right', '2': 'kidney-left', '3': 'femur-right', '4': 'femur-left', '5': 'bladder', '6': 'heart', '7': 'lung-right', '8': 'lung-left', '9': 'spleen', '10': 'pancreas'}\n",
      "    Number of samples: {'train': 971, 'val': 161, 'test': 610}\n",
      "    Description: The source of the OrganMNIST3D is the same as that of the Organ{A,C,S}MNIST. Instead of 2D images, we directly use the 3D bounding boxes and process the images into 28×28×28 to perform multi-class classification of 11 body organs. The same 115 and 16 CT scans as the Organ{A,C,S}MNIST from the source training set are used as training and validation set, respectively, and the same 70 CT scans as the Organ{A,C,S}MNIST from the source test set are treated as the test set.\n",
      "    License: CC BY 4.0\n"
     ]
    },
    {
     "data": {
      "text/plain": [
       "torch.Size([8, 1, 28, 28, 28])"
      ]
     },
     "execution_count": 46,
     "metadata": {},
     "output_type": "execute_result"
    }
   ],
   "source": [
    "# --- Zadanie 8\n",
    "\n",
    "train_dataloader = DataLoader(train_raw, batch_size=8, shuffle=True)\n",
    "val_dataloader   = DataLoader(val_raw, batch_size=8, shuffle=False)\n",
    "test_dataloader  = DataLoader(test_raw, batch_size=8, shuffle=False)\n",
    "\n",
    "print(train_raw)\n",
    "\n",
    "\n",
    "next(iter(train_dataloader))[0].shape\n"
   ]
  },
  {
   "cell_type": "code",
   "execution_count": 58,
   "metadata": {},
   "outputs": [
    {
     "name": "stdout",
     "output_type": "stream",
     "text": [
      "Kształt X: torch.Size([8, 1, 28, 28, 28])\n",
      "Typ X: torch.float32\n",
      "Zakres wartości X: 0.0 0.003921568859368563\n",
      "Kształt y: torch.Size([8, 1]) unikalne etykiety: tensor([0, 3, 5, 7, 9])\n"
     ]
    }
   ],
   "source": [
    "xb, yb = next(iter(train_dataloader))\n",
    "print(\"Kształt X:\", xb.shape)\n",
    "print(\"Typ X:\", xb.dtype)\n",
    "print(\"Zakres wartości X:\", xb.min().item(), xb.max().item())\n",
    "print(\"Kształt y:\", yb.shape, \"unikalne etykiety:\", yb.unique())\n"
   ]
  },
  {
   "cell_type": "markdown",
   "metadata": {},
   "source": [
    "## Zadanie 9 – Stwórz prostą sieć dla zbioru danych OrganMNIST3D\n",
    "\n",
    "Zamiast `nn.Conv2d` wykorzystaj `nn.Conv3d`, a zamiast `nn.MaxPool2d` użyj `nn.MaxPool3d`."
   ]
  },
  {
   "cell_type": "code",
   "execution_count": 73,
   "metadata": {},
   "outputs": [],
   "source": [
    "# --- Zadanie 9\n",
    "\n",
    "class SimpleCNN3D(nn.Module):\n",
    "    def __init__(self, num_classes):\n",
    "        super().__init__()\n",
    "        self.conv1 = nn.Conv3d(1, 16, kernel_size=3, padding=1)\n",
    "        self.conv2 = nn.Conv3d(16, 32, kernel_size=3, padding=1)\n",
    "        self.pool  = nn.MaxPool3d(kernel_size=2, stride=2)\n",
    "        self.fc1   = nn.Linear(32 * 7 * 7 * 7, 128)\n",
    "        self.fc2   = nn.Linear(128, num_classes)\n",
    "\n",
    "    def forward(self, x):\n",
    "        x = self.pool(F.relu(self.conv1(x)))  # [B,16,14,14,14]\n",
    "        x = self.pool(F.relu(self.conv2(x)))  # [B,32, 7, 7, 7]\n",
    "        x = torch.flatten(x, 1)\n",
    "        x = F.relu(self.fc1(x))\n",
    "        return self.fc2(x)\n",
    "    \n",
    "model = SimpleCNN3D(num_classes=11).to(device)"
   ]
  },
  {
   "cell_type": "markdown",
   "metadata": {},
   "source": [
    "## Zadanie 10 – Wykonaj trening sieci dla zbioru danych OrganMNIST3D\n",
    "\n",
    "W tym przypadku może być potrzebne 20 epok."
   ]
  },
  {
   "cell_type": "code",
   "execution_count": 75,
   "metadata": {},
   "outputs": [
    {
     "name": "stderr",
     "output_type": "stream",
     "text": [
      "  5%|███████▊                                                                                                                                                    | 1/20 [00:01<00:22,  1.19s/it]"
     ]
    },
    {
     "name": "stdout",
     "output_type": "stream",
     "text": [
      "Epoka [1/20]\n",
      "  Trening:    strata = 0.3905, dokładność = 0.8558\n",
      "  Walidacja: strata = 0.7035, dokładność = 0.7410\n"
     ]
    },
    {
     "name": "stderr",
     "output_type": "stream",
     "text": [
      " 10%|███████████████▌                                                                                                                                            | 2/20 [00:02<00:20,  1.14s/it]"
     ]
    },
    {
     "name": "stdout",
     "output_type": "stream",
     "text": [
      "Epoka [2/20]\n",
      "  Trening:    strata = 0.3614, dokładność = 0.8692\n",
      "  Walidacja: strata = 0.7590, dokładność = 0.7443\n"
     ]
    },
    {
     "name": "stderr",
     "output_type": "stream",
     "text": [
      " 15%|███████████████████████▍                                                                                                                                    | 3/20 [00:03<00:19,  1.12s/it]"
     ]
    },
    {
     "name": "stdout",
     "output_type": "stream",
     "text": [
      "Epoka [3/20]\n",
      "  Trening:    strata = 0.3380, dokładność = 0.8919\n",
      "  Walidacja: strata = 0.7135, dokładność = 0.7541\n"
     ]
    },
    {
     "name": "stderr",
     "output_type": "stream",
     "text": [
      " 20%|███████████████████████████████▏                                                                                                                            | 4/20 [00:04<00:17,  1.12s/it]"
     ]
    },
    {
     "name": "stdout",
     "output_type": "stream",
     "text": [
      "Epoka [4/20]\n",
      "  Trening:    strata = 0.3163, dokładność = 0.8877\n",
      "  Walidacja: strata = 0.6327, dokładność = 0.7885\n"
     ]
    },
    {
     "name": "stderr",
     "output_type": "stream",
     "text": [
      " 25%|███████████████████████████████████████                                                                                                                     | 5/20 [00:05<00:16,  1.12s/it]"
     ]
    },
    {
     "name": "stdout",
     "output_type": "stream",
     "text": [
      "Epoka [5/20]\n",
      "  Trening:    strata = 0.2726, dokładność = 0.9083\n",
      "  Walidacja: strata = 0.6735, dokładność = 0.7803\n"
     ]
    },
    {
     "name": "stderr",
     "output_type": "stream",
     "text": [
      " 30%|██████████████████████████████████████████████▊                                                                                                             | 6/20 [00:06<00:15,  1.12s/it]"
     ]
    },
    {
     "name": "stdout",
     "output_type": "stream",
     "text": [
      "Epoka [6/20]\n",
      "  Trening:    strata = 0.2466, dokładność = 0.9228\n",
      "  Walidacja: strata = 0.7041, dokładność = 0.7672\n"
     ]
    },
    {
     "name": "stderr",
     "output_type": "stream",
     "text": [
      " 35%|██████████████████████████████████████████████████████▌                                                                                                     | 7/20 [00:07<00:14,  1.11s/it]"
     ]
    },
    {
     "name": "stdout",
     "output_type": "stream",
     "text": [
      "Epoka [7/20]\n",
      "  Trening:    strata = 0.2468, dokładność = 0.9145\n",
      "  Walidacja: strata = 0.6380, dokładność = 0.7820\n"
     ]
    },
    {
     "name": "stderr",
     "output_type": "stream",
     "text": [
      " 40%|██████████████████████████████████████████████████████████████▍                                                                                             | 8/20 [00:08<00:13,  1.11s/it]"
     ]
    },
    {
     "name": "stdout",
     "output_type": "stream",
     "text": [
      "Epoka [8/20]\n",
      "  Trening:    strata = 0.2097, dokładność = 0.9341\n",
      "  Walidacja: strata = 0.6661, dokładność = 0.7770\n"
     ]
    },
    {
     "name": "stderr",
     "output_type": "stream",
     "text": [
      " 45%|██████████████████████████████████████████████████████████████████████▏                                                                                     | 9/20 [00:10<00:12,  1.11s/it]"
     ]
    },
    {
     "name": "stdout",
     "output_type": "stream",
     "text": [
      "Epoka [9/20]\n",
      "  Trening:    strata = 0.2023, dokładność = 0.9372\n",
      "  Walidacja: strata = 0.6588, dokładność = 0.7918\n"
     ]
    },
    {
     "name": "stderr",
     "output_type": "stream",
     "text": [
      " 50%|█████████████████████████████████████████████████████████████████████████████▌                                                                             | 10/20 [00:11<00:11,  1.11s/it]"
     ]
    },
    {
     "name": "stdout",
     "output_type": "stream",
     "text": [
      "Epoka [10/20]\n",
      "  Trening:    strata = 0.1761, dokładność = 0.9444\n",
      "  Walidacja: strata = 0.6769, dokładność = 0.7918\n"
     ]
    },
    {
     "name": "stderr",
     "output_type": "stream",
     "text": [
      " 55%|█████████████████████████████████████████████████████████████████████████████████████▎                                                                     | 11/20 [00:12<00:09,  1.11s/it]"
     ]
    },
    {
     "name": "stdout",
     "output_type": "stream",
     "text": [
      "Epoka [11/20]\n",
      "  Trening:    strata = 0.1623, dokładność = 0.9454\n",
      "  Walidacja: strata = 0.6412, dokładność = 0.8049\n"
     ]
    },
    {
     "name": "stderr",
     "output_type": "stream",
     "text": [
      " 60%|█████████████████████████████████████████████████████████████████████████████████████████████                                                              | 12/20 [00:13<00:08,  1.11s/it]"
     ]
    },
    {
     "name": "stdout",
     "output_type": "stream",
     "text": [
      "Epoka [12/20]\n",
      "  Trening:    strata = 0.1307, dokładność = 0.9650\n",
      "  Walidacja: strata = 0.6325, dokładność = 0.8164\n"
     ]
    },
    {
     "name": "stderr",
     "output_type": "stream",
     "text": [
      " 65%|████████████████████████████████████████████████████████████████████████████████████████████████████▊                                                      | 13/20 [00:14<00:07,  1.11s/it]"
     ]
    },
    {
     "name": "stdout",
     "output_type": "stream",
     "text": [
      "Epoka [13/20]\n",
      "  Trening:    strata = 0.1659, dokładność = 0.9423\n",
      "  Walidacja: strata = 0.7430, dokładność = 0.7869\n"
     ]
    },
    {
     "name": "stderr",
     "output_type": "stream",
     "text": [
      " 70%|████████████████████████████████████████████████████████████████████████████████████████████████████████████▌                                              | 14/20 [00:15<00:06,  1.11s/it]"
     ]
    },
    {
     "name": "stdout",
     "output_type": "stream",
     "text": [
      "Epoka [14/20]\n",
      "  Trening:    strata = 0.1138, dokładność = 0.9681\n",
      "  Walidacja: strata = 0.7444, dokładność = 0.7984\n"
     ]
    },
    {
     "name": "stderr",
     "output_type": "stream",
     "text": [
      " 75%|████████████████████████████████████████████████████████████████████████████████████████████████████████████████████▎                                      | 15/20 [00:16<00:05,  1.11s/it]"
     ]
    },
    {
     "name": "stdout",
     "output_type": "stream",
     "text": [
      "Epoka [15/20]\n",
      "  Trening:    strata = 0.1246, dokładność = 0.9670\n",
      "  Walidacja: strata = 0.6950, dokładność = 0.8148\n"
     ]
    },
    {
     "name": "stderr",
     "output_type": "stream",
     "text": [
      " 80%|████████████████████████████████████████████████████████████████████████████████████████████████████████████████████████████                               | 16/20 [00:17<00:04,  1.11s/it]"
     ]
    },
    {
     "name": "stdout",
     "output_type": "stream",
     "text": [
      "Epoka [16/20]\n",
      "  Trening:    strata = 0.0868, dokładność = 0.9773\n",
      "  Walidacja: strata = 0.6921, dokładność = 0.8164\n"
     ]
    },
    {
     "name": "stderr",
     "output_type": "stream",
     "text": [
      " 85%|███████████████████████████████████████████████████████████████████████████████████████████████████████████████████████████████████▊                       | 17/20 [00:18<00:03,  1.11s/it]"
     ]
    },
    {
     "name": "stdout",
     "output_type": "stream",
     "text": [
      "Epoka [17/20]\n",
      "  Trening:    strata = 0.0739, dokładność = 0.9784\n",
      "  Walidacja: strata = 0.7756, dokładność = 0.8033\n"
     ]
    },
    {
     "name": "stderr",
     "output_type": "stream",
     "text": [
      " 90%|███████████████████████████████████████████████████████████████████████████████████████████████████████████████████████████████████████████▌               | 18/20 [00:20<00:02,  1.12s/it]"
     ]
    },
    {
     "name": "stdout",
     "output_type": "stream",
     "text": [
      "Epoka [18/20]\n",
      "  Trening:    strata = 0.0721, dokładność = 0.9804\n",
      "  Walidacja: strata = 0.7371, dokładność = 0.8180\n"
     ]
    },
    {
     "name": "stderr",
     "output_type": "stream",
     "text": [
      " 95%|███████████████████████████████████████████████████████████████████████████████████████████████████████████████████████████████████████████████████▎       | 19/20 [00:21<00:01,  1.12s/it]"
     ]
    },
    {
     "name": "stdout",
     "output_type": "stream",
     "text": [
      "Epoka [19/20]\n",
      "  Trening:    strata = 0.0580, dokładność = 0.9876\n",
      "  Walidacja: strata = 0.7781, dokładność = 0.8131\n"
     ]
    },
    {
     "name": "stderr",
     "output_type": "stream",
     "text": [
      "100%|███████████████████████████████████████████████████████████████████████████████████████████████████████████████████████████████████████████████████████████| 20/20 [00:22<00:00,  1.12s/it]"
     ]
    },
    {
     "name": "stdout",
     "output_type": "stream",
     "text": [
      "Epoka [20/20]\n",
      "  Trening:    strata = 0.0466, dokładność = 0.9938\n",
      "  Walidacja: strata = 0.7930, dokładność = 0.8148\n"
     ]
    },
    {
     "name": "stderr",
     "output_type": "stream",
     "text": [
      "\n"
     ]
    }
   ],
   "source": [
    "# --- Zadanie 10\n",
    "\n",
    "loss_fn = nn.CrossEntropyLoss()\n",
    "optim = torch.optim.Adam(params=model.parameters())\n",
    "\n",
    "EPOCHS = 20\n",
    "\n",
    "for epoch in tqdm(range(EPOCHS)):\n",
    "    train_loss, train_acc = run_epoch(model, train_dataloader, device, loss_fn, optim)\n",
    "\n",
    "    with torch.inference_mode():\n",
    "        val_loss, val_acc = run_epoch(model, test_dataloader, device, loss_fn, None)\n",
    "\n",
    "    print(f\"Epoka [{epoch+1}/{EPOCHS}]\")\n",
    "    print(f\"  Trening:    strata = {train_loss:.4f}, dokładność = {train_acc:.4f}\")\n",
    "    print(f\"  Walidacja: strata = {val_loss:.4f}, dokładność = {val_acc:.4f}\")"
   ]
  },
  {
   "cell_type": "markdown",
   "metadata": {},
   "source": [
    "## Zadanie 11 – Sprawdź dokładność i macierz pomyłek dla zbioru danych OrganMNIST3D"
   ]
  },
  {
   "cell_type": "code",
   "execution_count": 79,
   "metadata": {},
   "outputs": [
    {
     "name": "stdout",
     "output_type": "stream",
     "text": [
      "[3D] Test accuracy: 0.8148\n"
     ]
    },
    {
     "data": {
      "image/png": "[encoded data removed]",
      "text/plain": [
       "<Figure size 640x480 with 2 Axes>"
      ]
     },
     "metadata": {},
     "output_type": "display_data"
    }
   ],
   "source": [
    "# --- Zadanie 11\n",
    "model.eval()\n",
    "\n",
    "correct = 0\n",
    "total = 0\n",
    "cm = np.zeros((num_classes, num_classes), dtype=int)\n",
    "\n",
    "with torch.inference_mode():\n",
    "    for x, y in test_dataloader:\n",
    "        x = x.to(device, non_blocking=True)\n",
    "        y = torch.as_tensor(y, dtype=torch.long, device=device).view(-1)\n",
    "\n",
    "        logits = model(x)\n",
    "        preds  = logits.argmax(dim=1)\n",
    "\n",
    "        correct += (preds == y).sum().item()\n",
    "        total   += y.size(0)\n",
    "\n",
    "        cm += confusion_matrix(y.cpu().numpy(),\n",
    "                               preds.cpu().numpy(),\n",
    "                               labels=list(range(num_classes)))\n",
    "\n",
    "test_acc = correct / total\n",
    "print(f\"[3D] Test accuracy: {test_acc:.4f}\")\n",
    "\n",
    "\n",
    "\n",
    "disp = ConfusionMatrixDisplay(confusion_matrix=cm, display_labels=info['label'].values())\n",
    "disp.plot(cmap='Blues', values_format='d', xticks_rotation=45)\n",
    "plt.title('OrganMNIST3D – Confusion Matrix (test)')\n",
    "plt.tight_layout()\n",
    "plt.show()"
   ]
  },
  {
   "cell_type": "code",
   "execution_count": 78,
   "metadata": {},
   "outputs": [
    {
     "data": {
      "text/plain": [
       "dict_values(['liver', 'kidney-right', 'kidney-left', 'femur-right', 'femur-left', 'bladder', 'heart', 'lung-right', 'lung-left', 'spleen', 'pancreas'])"
      ]
     },
     "execution_count": 78,
     "metadata": {},
     "output_type": "execute_result"
    }
   ],
   "source": [
    "info['label'].values()"
   ]
  },
  {
   "cell_type": "code",
   "execution_count": null,
   "metadata": {},
   "outputs": [],
   "source": []
  }
 ],
 "metadata": {
  "kernelspec": {
   "display_name": "Python (ML_venv)",
   "language": "python",
   "name": "ml_venv"
  }
 },
 "nbformat": 4,
 "nbformat_minor": 2
}
