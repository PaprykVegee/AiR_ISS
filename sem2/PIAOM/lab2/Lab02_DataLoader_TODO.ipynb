{
 "cells": [
  {
   "cell_type": "markdown",
   "metadata": {},
   "source": [
    "# Laboratorium 2: DataLoadery i prosta sieć CNN (MedMNIST – PneumoniaMNIST)\n",
    " \n",
    "**Cel:** nauczyć się przygotowywania **własnego Datasetu** w PyTorch oraz wykorzystać go do **szybkiego treningu prostej sieci CNN** na małym, medycznym zbiorze danych.\n",
    "\n",
    "\n",
    "> **Dataset:** użyjemy **PneumoniaMNIST** z kolekcji **MedMNIST** – to mały, 2-klasowy zbiór obrazów RTG płuc (zapalenie płuc vs brak). Dataset zostanie **automatycznie pobrany** w notebooku. Użyty zostanie też dataset **OrganMNIST3D** do klasyfikacji organów na podstawie danych trójwymiarowych."
   ]
  },
  {
   "cell_type": "markdown",
   "metadata": {},
   "source": [
    "## 0) Instalacja i importy"
   ]
  },
  {
   "cell_type": "code",
   "execution_count": 25,
   "metadata": {},
   "outputs": [
    {
     "name": "stdout",
     "output_type": "stream",
     "text": [
      "PyTorch: 2.7.1+cu128\n"
     ]
    }
   ],
   "source": [
    "# !pip -q install medmnist torchmetrics tqdm --extra-index-url https://download.pytorch.org/whl/cpu\n",
    "\n",
    "import os, sys, time, json, math, random\n",
    "import numpy as np\n",
    "import matplotlib.pyplot as plt\n",
    "from tqdm.auto import tqdm\n",
    "\n",
    "import torch\n",
    "import torch.nn as nn\n",
    "import torch.nn.functional as F\n",
    "from torch.utils.data import Dataset, DataLoader, random_split\n",
    "from torchvision import transforms\n",
    "\n",
    "from tqdm.auto import tqdm\n",
    "from torchmetrics.classification import BinaryAccuracy, BinaryConfusionMatrix\n",
    "\n",
    "import medmnist\n",
    "from medmnist import PneumoniaMNIST\n",
    "from medmnist import INFO\n",
    "\n",
    "import PIL.Image as Image\n",
    " \n",
    "from sklearn.metrics import ConfusionMatrixDisplay, confusion_matrix\n",
    "\n",
    "print(\"PyTorch:\", torch.__version__)"
   ]
  },
  {
   "cell_type": "markdown",
   "metadata": {},
   "source": [
    "## 1) Pobranie i eksploracja danych (MedMNIST – PneumoniaMNIST)\n",
    "\n",
    "Skrypt automatycznie pobiera zbiór **PneumoniaMNIST**. Poniższy kod sprawdza rozmiar danych i etykiety.\n",
    "Wyświetlone zostaje również 6 pierwszych próbek z tego zbioru."
   ]
  },
  {
   "cell_type": "code",
   "execution_count": 6,
   "metadata": {},
   "outputs": [
    {
     "name": "stdout",
     "output_type": "stream",
     "text": [
      "Opis: The PneumoniaMNIST is based on a prior dataset of 5,856 pediatric chest X-Ray images. The task is binary-class classification of pneumonia against normal. We split the source training set with a ratio of 9:1 into training and validation set and use its source validation set as the test set. The source images are gray-scale, and their sizes are (384−2,916)×(127−2,713). We center-crop the images and resize them into 1×28×28.\n",
      "Liczba klas: 2 ; klasy: {'0': 'normal', '1': 'pneumonia'}\n"
     ]
    },
    {
     "name": "stderr",
     "output_type": "stream",
     "text": [
      "100%|████████████████████████████████████████████████████████████████████████████████████████████████████████████████████████████████████| 4.17M/4.17M [00:02<00:00, 1.54MB/s]\n"
     ]
    },
    {
     "name": "stdout",
     "output_type": "stream",
     "text": [
      "Rozmiar obrazów: (28, 28)\n",
      "Rozmiary: 4708 524 624\n"
     ]
    },
    {
     "data": {
      "image/png": "[encoded data removed]",
      "text/plain": [
       "<Figure size 1000x200 with 6 Axes>"
      ]
     },
     "metadata": {},
     "output_type": "display_data"
    }
   ],
   "source": [
    "DATA_ROOT = \"./data/medmnist\"\n",
    "os.makedirs(DATA_ROOT, exist_ok=True)\n",
    "\n",
    "info = INFO['pneumoniamnist']\n",
    "print(\"Opis:\", info['description'])\n",
    "print(\"Liczba klas:\", len(info['label']), \"; klasy:\", info['label'])\n",
    "\n",
    "# Print image shape using the first image in the train set\n",
    "sample_img, _ = PneumoniaMNIST(split='train', download=True, root=DATA_ROOT, as_rgb=False)[0]\n",
    "print(\"Rozmiar obrazów:\", np.array(sample_img).shape)\n",
    "\n",
    "train_set_raw = PneumoniaMNIST(split='train', download=True, root=DATA_ROOT, as_rgb=False)\n",
    "val_set_raw   = PneumoniaMNIST(split='val',   download=True, root=DATA_ROOT, as_rgb=False)\n",
    "test_set_raw  = PneumoniaMNIST(split='test',  download=True, root=DATA_ROOT, as_rgb=False)\n",
    "\n",
    "print(\"Rozmiary:\", len(train_set_raw), len(val_set_raw), len(test_set_raw))\n",
    "\n",
    "fig, axes = plt.subplots(1, 6, figsize=(10,2))\n",
    "for i in range(6):\n",
    "    img, label = train_set_raw[i]\n",
    "    img_np = np.array(img)\n",
    "    axes[i].imshow(img_np, cmap='gray')\n",
    "    axes[i].set_title(f\"y={int(label.squeeze().item())}\")\n",
    "    axes[i].axis('off')\n",
    "plt.tight_layout(); plt.show()"
   ]
  },
  {
   "cell_type": "markdown",
   "metadata": {},
   "source": [
    "## Zadanie 1 – Własny `Dataset` i `DataLoader`\n",
    "\n",
    "W pierwszym kroku chcemy przygotować własny Datasoader dla zbioru PneumoniaMNIST. Dla popularnych zbiorów danych zazwyczaj nie ma konieczności pisania własnego Datasetu, ale dobrze jest wiedzieć jak powinien on działać.\n",
    "Dataset jest klasą dziedziczącą po klasie `Dataset` z `torch.utils.data`, która pozwala na wczytywanie danych. Musi ona zawierać przynajmniej 3 metody: `__init__` - stworzenie i inicjalizacja obiektów klasy, `__len__` - sprawdzenie liczby dostępnych próbek, `__getitem__` - pobranie próbki o zadanym indeksie. Zazwyczaj Dataset odpowiedzialny jest również za transformacje i augmentację danych, ale tym będziemy zajmować się później.\n",
    "W naszym przypadku zbiór danych jest bardzo mały, więc możemy cały trzymać w pamięci, ale zazwyczaj dane są przechowywane na dysku i odczytywane dopiero wtedy, kiedy musimy je przetworzyć (czyli stosujemy lazy loading).\n",
    "\n",
    "1. Zaimplementuj klasę `PneumoniaCustomDataset`, która dziedziczy po klasie `Dataset`.\n",
    "2. Zaimplementuj metodę `__init__`, której argumentami jest zbiór obrazów oraz zbiór odpowiadających im etykiet. Powinny one zostać zapamiętane jak pola obiektu. Dla etykiet wywołaj dodatkowo metodę `.squeeze()`.\n",
    "3. Zaimplementuj metodę `__len__`, która sprawdza liczbę zapamiętanych podczas inicjalizacji obrazów.\n",
    "4. Zaimplementuj metodę `__getitem__`, której argumentem jest indeks pobieranej próbki. W tym miejscu powinniśmy zapewnić, że zwracane próbki są oczekiwanego typu i rozmiaru.\n",
    "5. Zacznij od pobrania obrazu i etykiety o zadanym indeksie.\n",
    "6. Następnie wykonaj konwersję obrazu do tensora za pomocą `transforms.ToTensor()(x)`.\n",
    "7. Wykonaj konwersję etykiet do tensora za pomocą `torch.tensot`. Docelowym typem danych powinien być `torch.long`.\n",
    "8. Zwróć próbkę danych oraz etykietę.\n",
    "9. Poza klasą stwórz 3 datasety: treningowy, walidacyjny i testowy. Dane oraz etykiety można pobrać z wcześniejszych danych, np. `train_set_raw.imgs` lub `train_set_raw.labels`.\n",
    "10. Wyświetl ile elementów zawiera każdy z nich."
   ]
  },
  {
   "cell_type": "code",
   "execution_count": 54,
   "metadata": {},
   "outputs": [],
   "source": [
    "# --- Zadanie 1\n",
    "\n",
    "class PneumoniaCustomDataset(Dataset):\n",
    "    def __init__(self, data, label):\n",
    "        self.data = data\n",
    "        self.labels = label  # nie squeeze()\n",
    "\n",
    "    def __len__(self):\n",
    "        return len(self.data)\n",
    "    \n",
    "    def __getitem__(self, index):\n",
    "        img = self.data[index]\n",
    "        label = self.labels[index]\n",
    "        label = torch.tensor(label, dtype=torch.long)\n",
    "        label = label.view(-1)  \n",
    "\n",
    "        return torch.tensor(img, dtype=torch.float32).unsqueeze(0), label.squeeze()\n",
    "\n",
    "    \n",
    "train_dataset = PneumoniaCustomDataset(train_set_raw.imgs, train_set_raw.labels)\n",
    "test_dataset = PneumoniaCustomDataset(test_set_raw.imgs, test_set_raw.labels)\n",
    "val_dataset = PneumoniaCustomDataset(val_set_raw.imgs, val_set_raw.labels)"
   ]
  },
  {
   "cell_type": "markdown",
   "metadata": {},
   "source": [
    "## Zadanie 2 –  DataLoadery: batching, shuffle, num_workers\n",
    "\n",
    "Z kolei celem DataLoaderu jest wydajne dostarczanie batchy danych do treningu. Nie dostarcza on pojedynczych próbek, lecz cały ich zbiór nazywany batchem. Zajmuje sie również mieszaniem danych, żeby nie były przekazywane w tej samej kolejności, pozwala na rónoległe wczytywanie danych i zwraca iterator, dzięki czemu łatwo jest przejść po wszystkich próbkach danych. Do stworzenia DataLoadera wykorzystuje się gotową klasę `DataLoader`. Nie trzeba jej implementować samodzielnie.\n",
    "\n",
    "1. Zacznij od zdefiniowania rozmiaru batchów `BATCH_SIZE` i liczby workerów `NUM_WORKERS`.\n",
    "2. Stwórz 3 DataLoadery - odpowiednio treningowy, walidacyjny i testowy. Pierwszym argumentem powinien być obiekt Dataset wykorzystywany do wczytania danych. Oprócz tego przekazujemy `batch_size`, `shuffle` (wartość boolean), `num_workers` i `pin_memory` (wartość boolean). Mieszania danych (shuffle) używa się tylko dla danych treningowych. `pin_memory` pozwala na szybsze kopiowanie danych w przypadku uczenia na GPU i wtedy warto ustawić `True`.\n",
    "3. Stwórz pętlę przechodzącą po danych treningowych. Pamiętej, że DataLoader zwrócił iterator. Sprawdź rozmiar pojenynczego zestawu treningowego."
   ]
  },
  {
   "cell_type": "code",
   "execution_count": 55,
   "metadata": {},
   "outputs": [
    {
     "name": "stderr",
     "output_type": "stream",
     "text": [
      "/tmp/ipykernel_12198/2217057973.py:7: DeprecationWarning: __array__ implementation doesn't accept a copy keyword, so passing copy=False failed. __array__ must implement 'dtype' and 'copy' keyword arguments. To learn more, see the migration guide https://numpy.org/devdocs/numpy_2_0_migration_guide.html#adapting-to-changes-in-the-copy-keyword\n",
      "  plt.imshow(np.array(next(iter(train_dataloader))[0][0]).transpose(1, 2, 0), cmap='gray')\n"
     ]
    },
    {
     "data": {
      "text/plain": [
       "Text(0.5, 1.0, 'tensor(1)')"
      ]
     },
     "execution_count": 55,
     "metadata": {},
     "output_type": "execute_result"
    },
    {
     "data": {
      "image/png": "[encoded data removed]",
      "text/plain": [
       "<Figure size 640x480 with 1 Axes>"
      ]
     },
     "metadata": {},
     "output_type": "display_data"
    }
   ],
   "source": [
    "# --- Zadanie 2\n",
    "\n",
    "train_dataloader = DataLoader(train_dataset, batch_size=32, shuffle=True, pin_memory=True)\n",
    "test_dataloader = DataLoader(test_dataset, batch_size=32, shuffle=False, pin_memory=True)\n",
    "val_dataloader = DataLoader(val_dataset, batch_size=32, shuffle=False, pin_memory=True)\n",
    "\n",
    "plt.imshow(np.array(next(iter(train_dataloader))[0][0]).transpose(1, 2, 0), cmap='gray')\n",
    "plt.title(next(iter(train_dataloader))[1][0])"
   ]
  },
  {
   "cell_type": "markdown",
   "metadata": {},
   "source": [
    "## Zadanie 3 – Prosta sieć CNN\n",
    "\n",
    "Teraz zaimplementujemy prostą sieć konwolucyjną, której celem będzie klasyfikacja pacjentów na podstawie zdjęć jako zdrowi lub chorzy.\n",
    "1. Zaimplementuj klasę `SimpleCNN`, która dziedziczy po klasie `nn.Module`. Taka klasa musi posiadać przynajmniej dwie metody: `__init__`, gdzie zdefiniowane są warstwy i parametry sieci, oraz `forward`, która określa jak dane przepływają przez sieć.\n",
    "2. Stwórz metodę `__init__`, która będzie zawierać dwie warstwy konwolucyjne `nn.Conv2d`, warstwę MaxPool `nn.MaxPool2d` i dwie warstwy liniowe `nn.Linear`. Wybierz rozmiar warstw konwolucyjnych oraz dobierz padding tak, aby rozmiar wyjściowy był taki sam jak wejściowy. Wybierz również liczbę kanałów wyjściowych z tych warstw.\n",
    "3. Dodaj warstwę pooling, tak, żeby zmniejszyła rozmiar o połowę.\n",
    "4. Stwórz dwie warstwy w pełni połączone. Rozmiar wejścia pierwszej z nich powinien być równy rozmiarowi pomnożonemu przez liczbę kanałów. Dobierz liczbę kanałów na wyjściu. Ostatnia warstwa powinna mieć na wyjściu tylko dwa kanały.\n",
    "5. Zaimplementuj metodę `forward`, której arguemntem jest próbka do przetworzenia. Wejście najpierw wchodzi na pierwszą warstwę konwolucyjną, później idzie do funkcji aktywacji ReLU `F.relu`, a dalej do warstwy poolingowej.\n",
    "Następnie te same operacje wykonujemy dla drugiej warstwy konwolucyjnej. Dalej spłaszczamy dane przed podaniem ich do warstwy w pełni połączonej `torch.flatten` (drugim argumentem powinno być `1`, żeby nie usunąć wymiaru batch). Po pierwszej z tych warstw wykorzystujemy funkcję aktywacji ReLU, a następnie podajnemy na drugą z tych warstw i zwracamy jej wynik.\n",
    "6. Cały schemat wygląda następująco: (1, 28, 28) --> Conv2d --> ReLU--> MaxPool2d(2x2) --> Conv2d --> ReLU --> MaxPool2d(2x2) --> Flatten --> Linear --> ReLU --> Linear --> logits.\n",
    "7. Poza klasą wybierz urządzenie na którym sieć ma być uruchomiona: `device = 'cuda' if torch.cuda.is_available() else 'cpu'`.\n",
    "8. Stwórz instancję sieci i załaduj ją do wybranego urządzenia za pomocą metody `.to`\n",
    "9. Zdefiniuj funkcję straty jako `nn.CrossEntropyLoss()` i optymalizator jako `torch.optim.Adam`. Pierwszym argumentem optymalizatora są parametry sieci `.parameters()`, a drugim `lr`, czyli learning rate, określający jak szybko parametry modelu mają się zmieniać.\n",
    "10. Wypisz warstwy modelu za pomocą `print`."
   ]
  },
  {
   "cell_type": "code",
   "execution_count": null,
   "metadata": {},
   "outputs": [],
   "source": [
    "# --- Zadanie 3\n",
    "\n",
    "class SimpleCNN(nn.Module):\n",
    "    def __init__(self):\n",
    "        super().__init__()\n",
    "        self.cnn_layer1 = nn.Conv2d(1,  32, kernel_size=3)\n",
    "        self.maxpool_layer1 = nn.MaxPool2d(kernel_size=2)\n",
    "        self.cnn_layer2 = nn.Conv2d(32, 64, kernel_size=3)\n",
    "        self.maxpool_layer2 = nn.MaxPool2d(kernel_size=2)\n",
    "        self.flatten = nn.Flatten()\n",
    "        self.clf = nn.Sequential(\n",
    "            nn.Linear(1600, 512),\n",
    "            nn.ReLU(),\n",
    "            nn.Linear(512, 256),\n",
    "            nn.ReLU(),\n",
    "            nn.Linear(256, 2)\n",
    "        )\n",
    "\n",
    "    def forward(self, img):\n",
    "        x = F.relu(self.cnn_layer1(img))\n",
    "        x = self.maxpool_layer1(x)\n",
    "        x = F.relu(self.cnn_layer2(x))\n",
    "        x = self.maxpool_layer2(x)\n",
    "        flat = self.flatten(x)          # spłaszczenie do [batch, 64*5*5]\n",
    "        logit = self.clf(flat)          # używamy flat, nie x\n",
    "        return logit\n",
    "    \n",
    "device = \"cuda\" if torch.cuda.is_available() else 'cpu'\n",
    "\n",
    "model = SimpleCNN().to(device)\n",
    "\n",
    "from torchvision import models\n",
    "model = models.resnet18(weights=models.ResNet18_Weights.IMAGENET1K_V1)\n",
    "model.conv1 = nn.Conv2d(1, 64, kernel_size=7, stride=2, padding=3, bias=False)\n",
    "model.clf = nn.Linear(model.fc.in_features, 2)\n",
    "\n",
    "loss_fn = nn.CrossEntropyLoss()\n",
    "optim = torch.optim.Adam(params=model.parameters(), lr=1e-3)"
   ]
  },
  {
   "cell_type": "markdown",
   "metadata": {},
   "source": [
    "## Zadanie 4 – Trening\n",
    "\n",
    "Teraz konieczne jest przeprowadzenie treningu zdefiniowanego modelu.\n",
    "\n",
    "1. Zaimplementuj funkcję `run_epoch`, której zadaniem będzie wykonanie pojedynczej epoki treningu. Epoka to jedno pełne przejście modelu przez cały zbiór treningowy. Jej argumentami są: model sieci, DataLoader, optymalizator i urządzenie na którym sieć jest uruchomiona. Zakłądamy, że optymalizator jest przekazywany tylko w przypadku treningu, natomiast podczas ewaluacji wynosi `None`.\n",
    "2. Na początku funkcji sprawdź czy optymalizator nie jest `None`, a więc czy sieć powinna być uczona w tym wywołaniu funkcji.\n",
    "3. Jeśli ma być uczona, to ustaw ją w tryb treningu za pomocą metody `.train`. Jako argument podaj wynik wcześniejszego sprawdzenia.\n",
    "4. Zainicjalizuj `lossTotal`, `correctTotal` i `total` jako 0.0.\n",
    "5. Napisz pętlę, która przetwarza wszystkie dane z przekazanego DataLoadera.\n",
    "6. Prześlij dane do urządzenia za pomocą metody `.to`.\n",
    "7. Jeśli sieć ma być trenowana, to wyzeruj gradienty w optymalizatorze metodą `.zero_grad()`.\n",
    "8. Oblicz wyjście sieci dla danego wejścia.\n",
    "9. Olicz stratę dla przetworzonych danych za pomocą wybranej funkcji straty. Pierwszym argumentem jest wyście sieci, a drugim rzeczywiste etykiety.\n",
    "10. Jeśli sieć ma być uczona, to oblicz gradienty funkcji straty względem parametrów sieci i wykonaj krok optymalizatora. W tym celu wywołaj metodę `.backward()` obliczonej straty,a  następnie wywołaj metodę `.step()` optymalizatora.\n",
    "11. Dodaj obliczoną stratę do `lossTotal`.\n",
    "12. Sprawdź predykcje sieci dla przetworzonych danych. W tym celu wykorzystaj metodę `.argmax` względem wymiaru odpowiedzialnego za batch (jest on argumentem metody).\n",
    "13. Sprawdź ile predykcji było poprawnych. Porównaj wynik z poprzedniego punktu z etykietami, a następnie zsumuj wyniki porównania. Następnie skonwertuj wynikowy tensor na liczbę za pomocą metody `.item()` i dodaj wynik do `correctTotal`.\n",
    "14. Zaktualizuj liczbę wszystkich przetworzonych próbek `total`.\n",
    "15. Zwróć 'lossTotal' i 'correctTotal' podzielone przez liczbę przetworzonych próbek.\n",
    "16. Poza definicją funkcji zdefiniuj liczbę epok treningu. W naszym prostym przypadku powinny wystarczyć 2.\n",
    "17. Zaimplementuj pętlę, która wykona się tyle razy ile zdefiniowana liczba epok.\n",
    "18. W każdej iteracji pętli wywołaj zaimplementowaną funkcję dla zbioru treningowego. Następnie wyłącz oblicznie gradientów `with torch.no_grad():` i wewnątrz wywołaj tą samą funkcję dla zbioru walidacyjnego.\n",
    "19. Na koniec pętli, po każdej epoce, wyświetl numer epoki, stratę i dokładność zarówno dla zbioru treningowego, jak i walidacyjnego."
   ]
  },
  {
   "cell_type": "code",
   "execution_count": 69,
   "metadata": {},
   "outputs": [
    {
     "name": "stderr",
     "output_type": "stream",
     "text": [
      "  0%|                                                                                                                                                  | 0/10 [00:00<?, ?it/s]/home/patryk/Desktop/venv/ML_venv/lib/python3.10/site-packages/torch/utils/data/dataloader.py:665: UserWarning: 'pin_memory' argument is set as true but no accelerator is found, then device pinned memory won't be used.\n",
      "  warnings.warn(warn_msg)\n",
      " 10%|█████████████▊                                                                                                                            | 1/10 [00:32<04:56, 32.95s/it]"
     ]
    },
    {
     "name": "stdout",
     "output_type": "stream",
     "text": [
      "Epoka [1/10]\n",
      "  Trening:    strata = 0.4827, dokładność = 0.8951\n",
      "  Walidacja: strata = 1.2719, dokładność = 0.6843\n"
     ]
    },
    {
     "name": "stderr",
     "output_type": "stream",
     "text": [
      " 20%|███████████████████████████▌                                                                                                              | 2/10 [01:06<04:28, 33.59s/it]"
     ]
    },
    {
     "name": "stdout",
     "output_type": "stream",
     "text": [
      "Epoka [2/10]\n",
      "  Trening:    strata = 0.1495, dokładność = 0.9444\n",
      "  Walidacja: strata = 0.4109, dokładność = 0.8750\n"
     ]
    },
    {
     "name": "stderr",
     "output_type": "stream",
     "text": [
      " 30%|█████████████████████████████████████████▍                                                                                                | 3/10 [01:40<03:55, 33.63s/it]"
     ]
    },
    {
     "name": "stdout",
     "output_type": "stream",
     "text": [
      "Epoka [3/10]\n",
      "  Trening:    strata = 0.1780, dokładność = 0.9291\n",
      "  Walidacja: strata = 0.6013, dokładność = 0.8013\n"
     ]
    },
    {
     "name": "stderr",
     "output_type": "stream",
     "text": [
      " 40%|███████████████████████████████████████████████████████▏                                                                                  | 4/10 [02:14<03:21, 33.64s/it]"
     ]
    },
    {
     "name": "stdout",
     "output_type": "stream",
     "text": [
      "Epoka [4/10]\n",
      "  Trening:    strata = 0.1427, dokładność = 0.9460\n",
      "  Walidacja: strata = 0.5228, dokładność = 0.8173\n"
     ]
    },
    {
     "name": "stderr",
     "output_type": "stream",
     "text": [
      " 50%|█████████████████████████████████████████████████████████████████████                                                                     | 5/10 [02:48<02:49, 33.95s/it]"
     ]
    },
    {
     "name": "stdout",
     "output_type": "stream",
     "text": [
      "Epoka [5/10]\n",
      "  Trening:    strata = 0.1811, dokładność = 0.9282\n",
      "  Walidacja: strata = 0.5721, dokładność = 0.7708\n"
     ]
    },
    {
     "name": "stderr",
     "output_type": "stream",
     "text": [
      " 60%|██████████████████████████████████████████████████████████████████████████████████▊                                                       | 6/10 [03:22<02:15, 33.91s/it]"
     ]
    },
    {
     "name": "stdout",
     "output_type": "stream",
     "text": [
      "Epoka [6/10]\n",
      "  Trening:    strata = 0.1359, dokładność = 0.9545\n",
      "  Walidacja: strata = 0.4247, dokładność = 0.8446\n"
     ]
    },
    {
     "name": "stderr",
     "output_type": "stream",
     "text": [
      " 70%|████████████████████████████████████████████████████████████████████████████████████████████████▌                                         | 7/10 [03:57<01:42, 34.09s/it]"
     ]
    },
    {
     "name": "stdout",
     "output_type": "stream",
     "text": [
      "Epoka [7/10]\n",
      "  Trening:    strata = 0.1742, dokładność = 0.9288\n",
      "  Walidacja: strata = 0.7697, dokładność = 0.8157\n"
     ]
    },
    {
     "name": "stderr",
     "output_type": "stream",
     "text": [
      " 80%|██████████████████████████████████████████████████████████████████████████████████████████████████████████████▍                           | 8/10 [04:31<01:08, 34.08s/it]"
     ]
    },
    {
     "name": "stdout",
     "output_type": "stream",
     "text": [
      "Epoka [8/10]\n",
      "  Trening:    strata = 0.1383, dokładność = 0.9473\n",
      "  Walidacja: strata = 0.5607, dokładność = 0.8141\n"
     ]
    },
    {
     "name": "stderr",
     "output_type": "stream",
     "text": [
      " 90%|████████████████████████████████████████████████████████████████████████████████████████████████████████████████████████████▏             | 9/10 [05:05<00:34, 34.28s/it]"
     ]
    },
    {
     "name": "stdout",
     "output_type": "stream",
     "text": [
      "Epoka [9/10]\n",
      "  Trening:    strata = 0.1108, dokładność = 0.9575\n",
      "  Walidacja: strata = 0.5472, dokładność = 0.8558\n"
     ]
    },
    {
     "name": "stderr",
     "output_type": "stream",
     "text": [
      "100%|█████████████████████████████████████████████████████████████████████████████████████████████████████████████████████████████████████████| 10/10 [05:39<00:00, 33.97s/it]"
     ]
    },
    {
     "name": "stdout",
     "output_type": "stream",
     "text": [
      "Epoka [10/10]\n",
      "  Trening:    strata = 0.1566, dokładność = 0.9446\n",
      "  Walidacja: strata = 0.6204, dokładność = 0.7869\n"
     ]
    },
    {
     "name": "stderr",
     "output_type": "stream",
     "text": [
      "\n"
     ]
    }
   ],
   "source": [
    "# --- Zadanie 4\n",
    "\n",
    "\n",
    "def run_epoch(model, dataloader, device, criterion, optimizer=None):\n",
    "    is_train = optimizer is not None\n",
    "    model.train(is_train)\n",
    "\n",
    "    lossTotal = 0.0\n",
    "    correctTotal = 0\n",
    "    total = 0\n",
    "\n",
    "    for x, y in dataloader:\n",
    "        x = x.to(device)\n",
    "        y = y.to(device).long().view(-1) \n",
    "\n",
    "        if is_train:\n",
    "            optimizer.zero_grad()\n",
    "\n",
    "        outputs = model(x)\n",
    "        loss = criterion(outputs, y)\n",
    "\n",
    "        if is_train:\n",
    "            loss.backward()\n",
    "            optimizer.step()\n",
    "\n",
    "        lossTotal += loss.item() * x.size(0)\n",
    "        preds = outputs.argmax(dim=1)\n",
    "        correctTotal += (preds == y.long()).sum().item()\n",
    "        total += y.size(0)\n",
    "\n",
    "    return lossTotal / total, correctTotal / total\n",
    "\n",
    "EPOCHS = 10\n",
    "\n",
    "for epoch in tqdm(range(EPOCHS)):\n",
    "    train_loss, train_acc = run_epoch(model, train_dataloader, device, loss_fn, optim)\n",
    "\n",
    "    with torch.inference_mode():\n",
    "        val_loss, val_acc = run_epoch(model, test_dataloader, device, loss_fn, None)\n",
    "\n",
    "    print(f\"Epoka [{epoch+1}/{EPOCHS}]\")\n",
    "    print(f\"  Trening:    strata = {train_loss:.4f}, dokładność = {train_acc:.4f}\")\n",
    "    print(f\"  Walidacja: strata = {val_loss:.4f}, dokładność = {val_acc:.4f}\")\n"
   ]
  },
  {
   "cell_type": "markdown",
   "metadata": {},
   "source": [
    "## Zadanie 5 – Ewaluacja (accuracy, macierz pomyłek)\n",
    "\n",
    "Kolejnym elementem jest sprawdzenie skuteczności zaprojektowanego rozwiązania dla zbioru testowego.\n",
    "\n",
    "1. Przełącz model w tryb ewaluacji za pomocą metody `.eval()`.\n",
    "2. Zainicjalizuj wartości `correct` i `total` jako 0. Zaincjalizuj również `cm` jako zerową macierz o rozmiarze $2 \\times 2$. W zmiennej `cm` przechowywać będziemy macierz pomyłek. Jest to tabela, w której porównuje się rzeczywiste etykiety z predykcjami modelu.\n",
    "3. Wyłącz obliczanie gradientów w bloku kodu za pomocą `with torch.no_grad():`. Wewnątrz tego bloku wykonaj przejście po zbiorze testowym. Przedykcje modelu (po `.argmax`) prześlij na CPU za pomocą metody `.cpu()`. Upewnij się, że etykiety również są na CPU wywołując `.cpu()`.\n",
    "4. Oblicz `correct` i `total` podobnie jak w poprzednim zadaniu.\n",
    "5. Oprócz tego musimy zaktualizować macierz pomyłek. W tym celu do aktualnej macierzy dodajemy nową macierz, utworzoną na podstawie predykcji i etykiet. Macierz pomyłek tworzymy za pomocą funkcji `confusion_matrix`. Pierwszym argumentem są rzeczywiste etykiety, drugim są obliczone predykcje, a trzecim jest wektor etykiet `labels` (w naszym przypadku `[0, 1]`).\n",
    "6. Na zewnątrz pętli oblicz i wyświetl dokładność dla zbioru testowego.\n",
    "7. Na koniec wyświetl macierz pomyłek. Stwórz wizualizację za pomocą funkcji `ConfusionMatrixDisplay`. Jako argument `confusion_matrix` podaj wyznaczoną macierz pomyłek, a jako argument `display_labels` podaj wektor nazw dla klas `['normal','pneumonia']`. Wyświetl wynik za pomocą metody `.plot()`, a następnie `plt.show()`."
   ]
  },
  {
   "cell_type": "code",
   "execution_count": 70,
   "metadata": {},
   "outputs": [
    {
     "name": "stdout",
     "output_type": "stream",
     "text": [
      "Dokładność na zbiorze testowym: 0.7869\n"
     ]
    },
    {
     "data": {
      "image/png": "[encoded data removed]",
      "text/plain": [
       "<Figure size 640x480 with 2 Axes>"
      ]
     },
     "metadata": {},
     "output_type": "display_data"
    }
   ],
   "source": [
    "# --- Zadanie 5\n",
    "\n",
    "model.eval()\n",
    "\n",
    "correct = 0\n",
    "total = 0\n",
    "cm = torch.zeros((2, 2), dtype=torch.int32)  # macierz 2x2 dla dwóch klas\n",
    "\n",
    "with torch.inference_mode():\n",
    "    for x, y in test_dataloader:\n",
    "        x = x.to(device)\n",
    "        y = y.to(device)\n",
    "\n",
    "        outputs = model(x) \n",
    "        preds = outputs.argmax(dim=1)\n",
    "\n",
    "        correct += (preds == y).sum().item()\n",
    "        total += y.size(0)\n",
    "\n",
    "        cm += torch.tensor(\n",
    "            confusion_matrix(y.cpu(), preds.cpu(), labels=[0,1]),\n",
    "            dtype=torch.int32\n",
    "        )\n",
    "\n",
    "accuracy = correct / total\n",
    "print(f\"Dokładność na zbiorze testowym: {accuracy:.4f}\")\n",
    "\n",
    "# --- 7. Wyświetlenie macierzy pomyłek\n",
    "disp = ConfusionMatrixDisplay(confusion_matrix=cm.numpy(),\n",
    "                              display_labels=['normal','pneumonia'])\n",
    "disp.plot(cmap=plt.cm.Blues)\n",
    "plt.show()\n"
   ]
  },
  {
   "cell_type": "markdown",
   "metadata": {},
   "source": [
    "## Zadanie 6 – Zapis modelu\n",
    "\n",
    "Ostatnim etapem jest zapisanie słownika z parametrami modelu.\n",
    "1. Zdefiniuj ścieżkę do pliku.\n",
    "2. Pobierz słownik z parametrami za pomocą metody `.state_dict()`.\n",
    "3. Zapisz słownik za pomocą funkcji `torch.save`."
   ]
  },
  {
   "cell_type": "code",
   "execution_count": null,
   "metadata": {},
   "outputs": [],
   "source": [
    "# --- Zadanie 6"
   ]
  },
  {
   "cell_type": "markdown",
   "metadata": {},
   "source": [
    "## Zadanie 7 – Wykonaj podobną klasyfikację dla zbioru danych OrganMNIST3D\n",
    "\n",
    "Poniższy kod automatycznie pobiera dane."
   ]
  },
  {
   "cell_type": "code",
   "execution_count": null,
   "metadata": {},
   "outputs": [],
   "source": [
    "from medmnist import OrganMNIST3D, INFO\n",
    "\n",
    "DATA_ROOT = \"./data/medmnist\"\n",
    "os.makedirs(DATA_ROOT, exist_ok=True)\n",
    "\n",
    "info = INFO['organmnist3d']\n",
    "print(\"Opis:\", info['description'])\n",
    "num_classes = len(info['label'])\n",
    "print(\"Liczba klas:\", num_classes, \"; klasy:\", info['label'])\n",
    "\n",
    "# Print image shape using the first image in the train set\n",
    "sample_img, _ = OrganMNIST3D(split='train', download=True, root=DATA_ROOT, as_rgb=False)[0]\n",
    "print(\"Rozmiar obrazów:\", np.array(sample_img).shape)\n",
    "\n",
    "to_float32 = lambda x: torch.tensor(x, dtype=torch.float32) / 255.0\n",
    "\n",
    "train_raw = OrganMNIST3D(split='train', download=True, root=DATA_ROOT, as_rgb=False, transform=to_float32)\n",
    "val_raw   = OrganMNIST3D(split='val',   download=True, root=DATA_ROOT, as_rgb=False, transform=to_float32)\n",
    "test_raw  = OrganMNIST3D(split='test',  download=True, root=DATA_ROOT, as_rgb=False, transform=to_float32)\n",
    "\n",
    "print(\"Rozmiary:\", len(train_raw), len(val_raw), len(test_raw))\n",
    "\n",
    "# Szybki podgląd wolumenu 3D (3 losowe przekroje axial)\n",
    "sample_vol, sample_y = train_raw[0]   # numpy array shape (1,28,28,28), label np.int\n",
    "z_slices = sorted(random.sample(range(sample_vol.shape[-1]), 3))\n",
    "fig, axes = plt.subplots(1, 3, figsize=(9,3))\n",
    "for ax, z in zip(axes, z_slices):\n",
    "    ax.imshow(sample_vol[0, :, :, z], cmap='gray')\n",
    "    ax.set_title(f\"z={z}\")\n",
    "    ax.axis('off')\n",
    "plt.tight_layout(); plt.show()\n",
    "print(\"Przykładowa etykieta:\", int(sample_y.squeeze().item()))"
   ]
  },
  {
   "cell_type": "markdown",
   "metadata": {},
   "source": [
    "## Zadanie 8 – Stwórz DataLoader dla zbioru danych OrganMNIST3D\n",
    "\n",
    "Nie musisz pisać własnego Datasetu. Skorzystaj ze zwracanych przez funkcję `OrganMNIST3D`. Zwróć jaki teraz jest kształt danych."
   ]
  },
  {
   "cell_type": "code",
   "execution_count": null,
   "metadata": {},
   "outputs": [],
   "source": [
    "# --- Zadanie 8"
   ]
  },
  {
   "cell_type": "markdown",
   "metadata": {},
   "source": [
    "## Zadanie 9 – Stwórz prostą sieć dla zbioru danych OrganMNIST3D\n",
    "\n",
    "Zamiast `nn.Conv2d` wykorzystaj `nn.Conv3d`, a zamiast `nn.MaxPool2d` użyj `nn.MaxPool3d`."
   ]
  },
  {
   "cell_type": "code",
   "execution_count": null,
   "metadata": {},
   "outputs": [],
   "source": [
    "# --- Zadanie 9"
   ]
  },
  {
   "cell_type": "markdown",
   "metadata": {},
   "source": [
    "## Zadanie 10 – Wykonaj trening sieci dla zbioru danych OrganMNIST3D\n",
    "\n",
    "W tym przypadku może być potrzebne 20 epok."
   ]
  },
  {
   "cell_type": "code",
   "execution_count": null,
   "metadata": {},
   "outputs": [],
   "source": [
    "# --- Zadanie 10"
   ]
  },
  {
   "cell_type": "markdown",
   "metadata": {},
   "source": [
    "## Zadanie 11 – Sprawdź dokładność i macierz pomyłek dla zbioru danych OrganMNIST3D"
   ]
  },
  {
   "cell_type": "code",
   "execution_count": null,
   "metadata": {},
   "outputs": [],
   "source": [
    "# --- Zadanie 11"
   ]
  }
 ],
 "metadata": {
  "kernelspec": {
   "display_name": "Python 3 (ipykernel)",
   "language": "python",
   "name": "python3"
  }
 },
 "nbformat": 4,
 "nbformat_minor": 2
}
