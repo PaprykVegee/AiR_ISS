{
 "cells": [
  {
   "cell_type": "markdown",
   "id": "3eeb8b99",
   "metadata": {},
   "source": [
    "# Lab 4 - transformers part 1\n",
    "\n",
    "In this lab, we will implement a simple transformer model for sequence-to-sequence tasks using PyTorch. The transformer architecture is based on the paper \"Attention is All You Need\" by Vaswani et al. (2017). To undestand the key concepts of transformers, we will build the model step by step, starting from the attention mechanism and moving towards the complete transformer architecture. \n",
    "\n",
    "This course is mainly based on the article [Attention is All You Need](https://arxiv.org/abs/1706.03762) by Vaswani et al. (2017). Additionally, for a more in-depth understanding of transformers, you can refer to the [Attention in transformers, step-by-step](https://www.youtube.com/watch?v=eMlx5fFNoYc) by 3Blue1Brown (and other chapters for Deep Learning)."
   ]
  },
  {
   "cell_type": "markdown",
   "id": "1a38092f",
   "metadata": {},
   "source": [
    "### Background\n",
    "\n",
    "As you may know, for sequence-to-sequence tasks, Recurrent Neural Networks (RNNs) and Long Short-Term Memory networks (LSTMs) have been widely used. However, these models have limitations in capturing long-range dependencies (due to the vanishing gradient problem) and are inherently sequential, making them less efficient for parallel processing.\n",
    "\n",
    "The transformer architecture was introduced to address these limitations. Instead of relying on recurrence, transformers are built entirely on the concept of attention. Attention allows the model to focus on different parts of the input sequence when producing each output, making it possible to capture both short- and long-range dependencies efficiently. Furthermore, transformers are highly parallelizable since all tokens in a sequence can be processed simultaneously. This combination of efficiency and expressive power has made transformers the foundation of most modern natural language processing and multimodal systems.\n",
    "\n",
    "\n",
    "### The Core Idea: Attention\n",
    "\n",
    "The attention mechanism is the core idea behind transformers. It allows the model to weigh the importance of different parts of the input sequence when generating each part of the output sequence. Taking from the original paper:\n",
    "\n",
    "> An attention function can be described as mapping a query and a set of key-value pairs to an output, where the query, keys, values, and output are all vectors. The output is computed as a weighted sum of the values, where the weight assigned to each value is computed by a compatibility function of the query with the corresponding key.\n",
    "\n",
    "To better understand this, let's break down the components:\n",
    "- **Query (Q)**: represents the element we are currently trying to process. For example, when translating a word in the decoder, the query represents the “current word position” the model is focusing on.\n",
    "- **Key (K)**: represents the elements in the sequence that the query can “look at.” Each token in the input (or output) sequence is assigned a key vector.\n",
    "- **Value (V)**: represents the information contained in each token that can be passed along. The value is what gets aggregated to produce the attention output.\n",
    "\n",
    "To understand how attention works, consider the library analogy:\n",
    "> Imagine you are in a library looking for information on a specific topic. You have a question (the query) and you want to find relevant books (the keys) that contain the information you need (the values). The attention mechanism helps you determine which books are most relevant to your question by assigning weights to each book based on how well its content matches your query. The more relevant a book is, the higher the weight it receives. Finally, you gather information from the most relevant books (the weighted sum of values) to answer your question.\n",
    "\n",
    "### Scaled Dot-Product Attention\n",
    "\n",
    "<img src=https://raw.githubusercontent.com/vision-agh/DNN-Course-media/refs/heads/main/lab4_5_transformer/figures/sdpa.png width=\"200\">\n",
    "\n",
    "As there are many ways to implement attention, the transformer architecture uses a specific type called Scaled Dot-Product Attention. The steps to compute this attention are as follows:\n",
    "\n",
    "$\\text{Attention}(Q, K, V) = \\text{softmax}\\left(\\frac{QK^T}{\\sqrt{d_k}}\\right)V$\n",
    "\n",
    "where:\n",
    "- $QK^T$ computes the dot products between the query and all keys, resulting in a score matrix that indicates how much focus each key should receive.\n",
    "- $\\sqrt{d_k}$ is a scaling factor (where $d_k$ is the key dimension) that helps stabilize gradients during training, especially when the dimensionality of the keys is large.\n",
    "- $\\text{softmax}$ normalizes the scores into probabilities (attention weights), ensuring they sum to 1.\n",
    "- The final output is a weighted sum of the values, where each value is weighted by its corresponding attention weight.\n",
    "\n",
    "Why this is powerful?\n",
    " - Attention is content-based: instead of attending to a fixed position (like in RNNs), the model dynamically decides which tokens are most relevant.\n",
    " - Each output token can attend to all input tokens, allowing for long-range dependencies to be captured effectively.\n",
    "\n",
    "### Multi-Head Attention\n",
    "\n",
    "<img src=https://raw.githubusercontent.com/vision-agh/DNN-Course-media/refs/heads/main/lab4_5_transformer/figures/mha.png width=\"400\">\n",
    "\n",
    "So far, we have described scaled dot-product attention as a single operation:\n",
    "\n",
    "$\\text{Attention}(Q, K, V) = \\text{softmax}\\left(\\frac{QK^T}{\\sqrt{d_k}}\\right)V$\n",
    "\n",
    "This works well, but one attention mechanism can only learn one type of relationship at a time. For example, when processing a sentence, we might want the model to pay attention to:\n",
    "- grammatical structure (e.g., subject → verb connections),\n",
    "- semantic meaning (e.g., “dog” relates to “animal”),\n",
    "- positional patterns (e.g., word order).\n",
    "\n",
    "A single attention head cannot capture all these aspects simultaneously.\n",
    "\n",
    "Multi-head attention solves this by using multiple attention “heads” in parallel:\n",
    "1. The input embeddings are linearly projected into multiple sets of Queries, Keys, and Values, where each Head has its own learned projection matrices.\n",
    "2. Each head performs scaled dot-product attention independently, allowing each to focus on different parts of the input.\n",
    "3. The outputs of all heads are concatenated and linearly transformed to produce the final output.\n",
    "\n",
    "$\\text{MultiHead}(Q, K, V) = \\text{Concat}(\\text{head}_1, \\ldots, \\text{head}_h)W^O$\n",
    "\n",
    "\n",
    "### Encoder and Decoder\n",
    "\n",
    "The original transformer architecture from the paper consists of an encoder and a decoder, each made up of multiple layers. The encoder processes the input sequence, while the decoder generates the output sequence step by step, attending both to the encoder outputs and to the tokens it has generated so far.\n",
    "\n",
    "<img src=https://raw.githubusercontent.com/vision-agh/DNN-Course-media/refs/heads/main/lab4_5_transformer/figures/transformer.png width=\"400\">\n",
    "\n",
    "#### Encoder\n",
    "Each encoder layer contains:\n",
    "- Multi-head self-attention mechanism: allows each token in the input sequence to attend to all other tokens, capturing dependencies across the entire sequence.\n",
    "- Position-wise feed-forward network (FFN): a fully connected feed-forward network applied independently to each token representation.\n",
    "- Residual connections and layer normalization: improve gradient flow and stabilize training.\n",
    "\n",
    "#### Decoder\n",
    "\n",
    "Each decoder layer contains:\n",
    "- Masked multi-head self-attention: similar to the encoder’s self-attention, but with an important difference — masking is applied so that a token at position t can only attend to tokens at positions ≤ t. This prevents the model from “cheating” by looking ahead at future tokens during training, ensuring that predictions are made autoregressively.\n",
    "- Multi-head cross-attention: allows the decoder to attend to the encoder’s output sequence. This way, when generating the next token, the decoder has access not only to what it has generated so far but also to the full context of the input.\n",
    "- Position-wise feed-forward network (FFN).\n",
    "\n",
    "\n",
    "#### The Role of Masking\n",
    "\n",
    "Masking is essential in the decoder’s self-attention. Without masking, when predicting the next word in a sequence, the decoder could directly attend to the ground truth future words, making the training unrealistic compared to inference time. It is implemented by setting the attention scores of future tokens to negative infinity before applying the softmax function, effectively preventing any attention to those positions.\n",
    "\n",
    "For more details, you can watch this fragment of the video by 3Blue1Brown: [link](https://youtu.be/eMlx5fFNoYc?si=vDft5S1YYG6ivEqD&t=665)"
   ]
  },
  {
   "cell_type": "markdown",
   "id": "320a9aeb",
   "metadata": {},
   "source": [
    "# Implementation\n",
    "\n",
    "Let's implement the transformer model step by step using PyTorch. We will start with the attention mechanism, then build the multi-head attention, followed by the encoder and decoder layers, and finally assemble the complete transformer model."
   ]
  },
  {
   "cell_type": "code",
   "execution_count": 1,
   "id": "e4d0bd51",
   "metadata": {},
   "outputs": [
    {
     "name": "stderr",
     "output_type": "stream",
     "text": [
      "\u001b[34m\u001b[1mwandb\u001b[0m: Currently logged in as: \u001b[33mpatryklorenc\u001b[0m (\u001b[33mdeep-neural-network-course\u001b[0m) to \u001b[32mhttps://api.wandb.ai\u001b[0m. Use \u001b[1m`wandb login --relogin`\u001b[0m to force relogin\n"
     ]
    },
    {
     "name": "stdout",
     "output_type": "stream",
     "text": [
      "Using device: cuda\n"
     ]
    }
   ],
   "source": [
    "import math\n",
    "import torch\n",
    "import torch.nn as nn\n",
    "import torch.nn.functional as F\n",
    "import matplotlib.pyplot as plt\n",
    "\n",
    "from typing import Optional\n",
    "\n",
    "import wandb\n",
    "\n",
    "wandb.login()  # Log in to your W&B account\n",
    "\n",
    "torch.manual_seed(42)  # For reproducibility\n",
    "\n",
    "device = torch.device('cuda' if torch.cuda.is_available() else 'cpu')\n",
    "print(f'Using device: {device}')"
   ]
  },
  {
   "cell_type": "markdown",
   "id": "d74293de",
   "metadata": {},
   "source": [
    "We start by defining a class Head, which represents one attention head in multi-head attention.\n",
    "\n",
    "- `__init__`: \n",
    "    - Creates three linear layers to project the input into queries, keys, and values (emb_size -> head_size).\n",
    "    - Calculate the scaling factor `scale` as the inverse square root of the head size to normalize the dot products.\n",
    "    - Initializes a dropout layer to prevent overfitting.\n",
    "    - Initializes a variable `attn_weights` to store the attention weights for visualization purposes.\n",
    "\n",
    "- `scale_dot_product_attention`:\n",
    "    - Computes the dot products between queries and keys to get raw attention scores (use `torch.matmul` and `.transpose`).\n",
    "    - Scales the scores by the `scale` factor.\n",
    "    - Applies an optional mask to prevent attending to certain positions (use `.masked_fill()` and apply `-inf` where `mask==0`).\n",
    "    - Applies softmax to obtain attention weights and save it in `attn_weights` (moved to CPU for visualization).\n",
    "    - Applies dropout to the attention weights.\n",
    "    - Computes the final output as a weighted sum of the values using the attention weights.\n",
    "\n",
    "- `forward`:\n",
    "    - Projects the `key`, `query`, and `value` inputs using the respective linear layers.\n",
    "    - Calls `scale_dot_product_attention` to compute the attention output.\n",
    "    - Returns the attention output.\n",
    "\n",
    "\n",
    "<img src=https://raw.githubusercontent.com/vision-agh/DNN-Course-media/2d41174bc3e6d8e7ab0289d983343f5e0d5157c5/lab4_5_transformer/figures/head.svg width=\"300\">"
   ]
  },
  {
   "cell_type": "code",
   "execution_count": null,
   "id": "7ac55cd2",
   "metadata": {},
   "outputs": [],
   "source": [
    "class Head(nn.Module):\n",
    "    def __init__(self, emb_size, head_size, dropout=0.0, bias=False):\n",
    "        super().__init__()\n",
    "        self.key   = nn.Linear(emb_size, head_size, bias=bias)\n",
    "        self.query = nn.Linear(emb_size, head_size, bias=bias)\n",
    "        self.value = nn.Linear(emb_size, head_size, bias=bias)\n",
    "        self.scale = math.sqrt(head_size)  \n",
    "        self.dropout = nn.Dropout(dropout)\n",
    "        self.attn_weights = None          \n",
    "\n",
    "    def forward(self, q, k, v, mask=None):\n",
    "        Q = self.query(q)  # [batch, seq_len, head_size]\n",
    "        K = self.key(k)    # [batch, seq_len, head_size]\n",
    "        V = self.value(v)  # [batch, seq_len, head_size]\n",
    "        return self.scaled_dot_product_attention(Q, K, V, mask)\n",
    "    \n",
    "    def scaled_dot_product_attention(self, Q, K, V, mask=None):\n",
    "        scores = torch.matmul(Q, K.transpose(-2, -1)) / self.scale \n",
    "\n",
    "        if mask is not None:\n",
    "            scores = scores.masked_fill(mask == 0, float('-inf'))\n",
    "\n",
    "        attn = F.softmax(scores, dim=-1)\n",
    "        attn = self.dropout(attn)  \n",
    "        self.attn_weights = attn.detach()\n",
    "        out = torch.matmul(attn, V)  \n",
    "        return out\n"
   ]
  },
  {
   "cell_type": "markdown",
   "id": "9f24015f",
   "metadata": {},
   "source": [
    "We define a class MultiHeadAttention, which combines several attention heads to allow the model to learn from different types of relationships in parallel.\n",
    "\n",
    "- `__init__`: \n",
    "    - Asserts that the embedding size is divisible by the number of heads.\n",
    "    - Calculates the size of each head as `emb_size // num_heads`.\n",
    "    - Creates a list of `Head` instances, each initialized with the embedding size and head size (use `nn.ModuleList([])`).\n",
    "    - Initializes a linear layer to combine the outputs of all heads back into the original embedding size.\n",
    "    - Initializes a dropout layer to prevent overfitting.\n",
    "\n",
    "- `forward`:\n",
    "    - Passes the `key`, `query`, and `value` inputs through each attention head and collects their outputs.\n",
    "    - Concatenates the outputs of all heads along the last dimension.\n",
    "    - Projects the concatenated output back to the original embedding size using the linear layer.\n",
    "    - Applies dropout to the final output.\n",
    "    - Returns the final output.\n",
    "\n",
    "- `get_attention_weights`:\n",
    "    - Returns the attention weights from each head for visualization purposes. Creates a list of attention weights from each head using a list comprehension.\n",
    "\n",
    "<img src=https://raw.githubusercontent.com/vision-agh/DNN-Course-media/refs/heads/main/lab4_5_transformer/figures/mha.png width=\"200\">"
   ]
  },
  {
   "cell_type": "code",
   "execution_count": 3,
   "id": "22c6dd31",
   "metadata": {},
   "outputs": [],
   "source": [
    "# --- Multi-Head Attention ---\n",
    "class MultiHeadAttention(nn.Module):\n",
    "    def __init__(self, emb_size, num_heads, dropout=0.0, bias=False):\n",
    "        super().__init__()\n",
    "        assert emb_size % num_heads == 0\n",
    "        head_size = emb_size // num_heads\n",
    "        self.heads = nn.ModuleList([\n",
    "            Head(emb_size, head_size, dropout, bias) for _ in range(num_heads)\n",
    "        ])\n",
    "        self.linear = nn.Linear(head_size*num_heads, emb_size)\n",
    "        self.dropout = nn.Dropout(dropout)\n",
    "\n",
    "    def forward(self, q, k, v, mask=None):\n",
    "        out = [head(q, k, v, mask) for head in self.heads]\n",
    "        out = torch.cat(out, dim=-1)\n",
    "        out = self.dropout(self.linear(out))\n",
    "        return self.dropout(out)\n",
    "\n",
    "    def get_attention_maps(self):\n",
    "        return [h.attn_weights for h in self.heads if h.attn_weights is not None]"
   ]
  },
  {
   "cell_type": "markdown",
   "id": "f23b7883",
   "metadata": {},
   "source": [
    "We define a class EncoderBlock, which represents one layer of the transformer encoder. Each block refines token embeddings by applying self-attention and a feed-forward network.\n",
    "\n",
    "- `__init__`: \n",
    "    - Initializes a multi-head self-attention layer with the specified embedding size and number of heads.\n",
    "    - Initializes two `LayerNorm` normalization layers to stabilize training.\n",
    "    - Creates a feed-forward network (FFN) consisting of two linear layers with a ReLU activation in between. The first layer expands the embedding size by a factor of `expansion`, and the second layer projects it back to the original size (emb_size -> emb_size * expansion -> emb_size). Use `nn.Sequential`.\n",
    "- `forward`:\n",
    "    - Applies multi-head self-attention to the input `x`, using `x` as the query, key, and value. (We use `x` for all three since it's self-attention.)\n",
    "    - Adds a residual connection by summing the attention output with the original input `x`, followed by first layer normalization.\n",
    "    - Passes the result through the feed-forward network (FFN).\n",
    "    - Adds another residual connection by summing the FFN output with its input, followed by second layer normalization.\n",
    "    - Returns the final output.\n",
    "\n",
    "<img src=https://raw.githubusercontent.com/vision-agh/DNN-Course-media/refs/heads/main/lab4_5_transformer/figures/encoder.png width=\"200\">"
   ]
  },
  {
   "cell_type": "code",
   "execution_count": 4,
   "id": "d5fe2b99",
   "metadata": {},
   "outputs": [],
   "source": [
    "# FeedForward Block\n",
    "class FeedForwardBLock(nn.Module):\n",
    "    def __init__(self, emb_size, expansion, dropout):\n",
    "        super().__init__()\n",
    "        self.linear1 = nn.Linear(emb_size, emb_size*expansion)\n",
    "        self.gelu = nn.GELU()\n",
    "        self.linear2 = nn.Linear(emb_size*expansion, emb_size)\n",
    "        self.dropout = nn.Dropout(dropout)\n",
    "\n",
    "    def forward(self, x):\n",
    "        x = self.linear1(x)\n",
    "        x = self.gelu(x)\n",
    "        x = self.linear2(x)\n",
    "        x = self.dropout(x)\n",
    "\n",
    "        return x\n",
    "\n",
    "\n",
    "# --- Encoder Block ---\n",
    "class EncoderBlock(nn.Module):\n",
    "    def __init__(self, emb_size, num_heads, dropout=0.0, expansion=4):\n",
    "        super().__init__()\n",
    "        self.attn = MultiHeadAttention(emb_size, num_heads, dropout)\n",
    "        self.norm1 = nn.LayerNorm(emb_size)\n",
    "        self.norm2 = nn.LayerNorm(emb_size)\n",
    "        self.ff = FeedForwardBLock(emb_size, num_heads, dropout)\n",
    "        self.dropout = nn.Dropout()\n",
    "\n",
    "    def forward(self, x):\n",
    "        attn_out = self.attn(x, x, x)\n",
    "        x = x + attn_out\n",
    "        x = self.norm1(x)\n",
    "\n",
    "        ff_out = self.ff(x)\n",
    "        x = ff_out + self.dropout(x)\n",
    "        x = self.norm2(x)\n",
    "        return x"
   ]
  },
  {
   "cell_type": "markdown",
   "id": "73580105",
   "metadata": {},
   "source": [
    "We define a class DecoderBlock, which represents one layer of the transformer decoder. A decoder block extends the encoder block by adding masked self-attention and cross-attention.\n",
    "\n",
    "- `__init__`: \n",
    "    - Initializes a masked multi-head self-attention layer for the decoder to attend to its own previous outputs.\n",
    "    - Initializes a multi-head cross-attention layer for the decoder to attend to the encoder's outputs if `use_cross_attn` is True; otherwise, sets it to None.\n",
    "    - Initializes three `LayerNorm` normalization layers for the three sub-layers (if `use_cross_attn` is False/None, we need only two normalization layers).\n",
    "    - Creates a feed-forward network (FFN) similar to the encoder block.\n",
    "\n",
    "- `forward`:\n",
    "    - First check if `use_cross_attn` is None/False and `enc_out` is not None, raise a `ValueError(\"Cross-attention is not enabled in this DecoderBlock.\")`.\n",
    "    - Applies masked multi-head self-attention to the input `x`, using `x` as the query, key, and value. The `tgt_mask` is applied to prevent attending to future tokens.\n",
    "    - Adds a residual connection by summing the self-attention output with the original input `x`, followed by the first layer normalization.\n",
    "    - If `enc_out` is provided (we have encoder outputs), applies multi-head cross-attention using `x` as the query and `enc_out` as the key and value.\n",
    "    - Adds a residual connection by summing the cross-attention output with its input, followed by the second layer normalization.\n",
    "    - Passes the result through the feed-forward network (FFN).\n",
    "    - Adds another residual connection by summing the FFN output with its input, followed by the third layer normalization.\n",
    "    - Returns the final output.\n",
    "    \n",
    "<img src=https://raw.githubusercontent.com/vision-agh/DNN-Course-media/refs/heads/main/lab4_5_transformer/figures/decoder.png width=\"200\">"
   ]
  },
  {
   "cell_type": "code",
   "execution_count": 5,
   "id": "a1914312",
   "metadata": {},
   "outputs": [],
   "source": [
    "# --- Decoder Block ---\n",
    "class DecoderBlock(nn.Module):\n",
    "    def __init__(self, emb_size, num_heads, dropout=0.0, expansion=4, use_cross_attn=False):\n",
    "        super().__init__()\n",
    "        self.cross_attn = None\n",
    "\n",
    "        self.self_attn = MultiHeadAttention(emb_size, num_heads, dropout)\n",
    "        self.norm1 = nn.LayerNorm(emb_size)\n",
    "\n",
    "        if use_cross_attn:\n",
    "            self.cross_attn = MultiHeadAttention(emb_size, num_heads, dropout)\n",
    "            self.norm2 = nn.LayerNorm(emb_size)\n",
    "\n",
    "        self.norm3 = nn.LayerNorm(emb_size)\n",
    "        self.ff = FeedForwardBLock(emb_size, expansion, dropout)\n",
    "\n",
    "        self.dropout = nn.Dropout(dropout)\n",
    "\n",
    "    def forward(self,\n",
    "                x: torch.Tensor,\n",
    "                enc_out: Optional[torch.Tensor] = None,\n",
    "                tgt_mask: Optional[torch.Tensor] = None):\n",
    "        if self.cross_attn is None and enc_out is not None:\n",
    "            raise ValueError(\"Cross-attention is not enabled in this DecoderBlock, but enc_out was provided.\")\n",
    "\n",
    "        self_attn_out = self.self_attn(x, x, x, tgt_mask)   \n",
    "        x = x + self.dropout(self_attn_out)                  \n",
    "        x = self.norm1(x)\n",
    "\n",
    "        if enc_out is not None and self.cross_attn is not None:\n",
    "            cross_attn_out = self.cross_attn(x, enc_out, enc_out)\n",
    "            x = x + self.dropout(cross_attn_out)\n",
    "            x = self.norm2(x)\n",
    "\n",
    "\n",
    "        ff_out = self.ff(x)\n",
    "        x = x + self.dropout(ff_out)\n",
    "        x = self.norm3(x)\n",
    "\n",
    "        return x"
   ]
  },
  {
   "cell_type": "markdown",
   "id": "5e971b8c",
   "metadata": {},
   "source": [
    "### Word Embeddings and Positional Encoding\n",
    "\n",
    "Before we talk about positions, let’s recall what embeddings are.\n",
    "\n",
    "When we process text, words (or tokens) are first converted into word embeddings. An embedding is simply a dense vector representation of a token. Instead of treating a word as just an ID or a one-hot vector, an embedding captures semantic meaning — similar words (like “cat” and “dog”) end up with similar vector representations.\n",
    "\n",
    "In a transformer, the first step is to look up embeddings for all input tokens. These embeddings form the semantic meaning of the sequence, but on their own, they contain no information about order.\n",
    "\n",
    "#### Positional Encoding\n",
    "\n",
    "Now, we have almost all the components needed to build a transformer model. Last important piece is the positional encoding.\n",
    "\n",
    "Unlike RNNs or CNNs, the transformer has no inherent notion of sequence order — attention treats the input as a set of tokens without positional structure. However, for language and many other tasks, the order of tokens is essential (e.g. “dog bites man” ≠ “man bites dog”).\n",
    "\n",
    "To give the model information about the positions of tokens, positional encodings are added to the input embeddings at the bottom of the encoder and decoder stacks.\n",
    "\n",
    "There are two common approaches:\n",
    "- Fixed sinusoidal encodings (original Transformer paper):\n",
    "    - Use sine and cosine functions of different frequencies to encode positions.\n",
    "    - Each dimension of the embedding corresponds to a sinusoid with a specific wavelength.\n",
    "\n",
    "    Formally:\n",
    "    $\\text{PE}(pos, 2i) = \\sin\\left(\\frac{pos}{10000^{2i/d_{model}}}\\right)$\n",
    "    $\\text{PE}(pos, 2i+1) = \\cos\\left(\\frac{pos}{10000^{2i/d_{model}}}\\right)$\n",
    "\n",
    "- Learned positional embeddings:\n",
    "    - Each position has a trainable embedding vector, just like words.\n",
    "    - The model learns the best positional representations during training.\n",
    "\n",
    "#### How it's used?\n",
    "\n",
    "The positional encodings are added to the input embeddings before feeding them into the first encoder and decoder layers. This way, each token embedding carries both its semantic meaning (from the word embedding) and its position in the sequence (from the positional encoding).\n",
    "\n",
    "We define a class PositionalEncoding, which generates and applies positional encodings to input embeddings.\n"
   ]
  },
  {
   "cell_type": "code",
   "execution_count": 6,
   "id": "779e8758",
   "metadata": {},
   "outputs": [
    {
     "data": {
      "image/png": "[encoded data removed]",
      "text/plain": [
       "<Figure size 1000x500 with 2 Axes>"
      ]
     },
     "metadata": {},
     "output_type": "display_data"
    }
   ],
   "source": [
    "# --- Positional Encoding ---\n",
    "class PositionalEncoding(nn.Module):\n",
    "    def __init__(self, d_model, max_len=5000):\n",
    "        super().__init__()\n",
    "        pe = torch.zeros(max_len, d_model)\n",
    "        pos = torch.arange(0, max_len, dtype=torch.float).unsqueeze(1)\n",
    "        div = torch.exp(torch.arange(0, d_model, 2).float() * (-math.log(10000.0) / d_model))\n",
    "        pe[:, 0::2] = torch.sin(pos * div)\n",
    "        pe[:, 1::2] = torch.cos(pos * div)\n",
    "        self.register_buffer(\"pe\", pe.unsqueeze(0))\n",
    "\n",
    "    def forward(self, x):\n",
    "        return x + self.pe[:, :x.size(1)]\n",
    "    \n",
    "# Visualization of Positional Encoding\n",
    "def plot_positional_encoding(pe, max_len=200):\n",
    "    plt.figure(figsize=(10, 5))\n",
    "    plt.imshow(pe.pe[0, :max_len].cpu(), cmap='viridis', aspect='auto')\n",
    "    plt.colorbar()\n",
    "    plt.xlabel('Embedding Dimension')\n",
    "    plt.ylabel('Position')\n",
    "    plt.title('Positional Encoding')\n",
    "    plt.show()\n",
    "\n",
    "# Example usage and visualization\n",
    "d_model = 128\n",
    "pe = PositionalEncoding(d_model)\n",
    "plot_positional_encoding(pe, max_len=100)\n"
   ]
  },
  {
   "cell_type": "markdown",
   "id": "92388550",
   "metadata": {},
   "source": [
    "Now, we will implement our own Transformer model by combining all the components we have built so far. We will use it for a simple translation task of translating digits to their corresponding English words (e.g., \"123\" -> \"ONETWOTHREE\").\n",
    "\n",
    "We define a class NumberToWordTranslator, which implements a simple encoder-decoder transformer similar to the original architecture. Constructor gets as input: `src_vocab` - the size of the source vocabulary (digits), `tgt_vocab` - the size of the target vocabulary (words), `emb_size` - the embedding size, `num_heads` - the number of attention heads in multi-head attention, `num_layers` - the number of encoder and decoder layers.\n",
    "\n",
    "- `__init__`: \n",
    "    - Initializes embedding layers for the source (digits) and target (words) vocabularies (use `nn.Embedding` with corresponding size of the source/target and output is equal to embedding size).\n",
    "    - Initializes positional encoding layers for both the encoder and decoder. We use fixed sinusoidal encodings `PositionalEncoding`.\n",
    "    - Creates a `ModuleList` of encoder blocks and decoder blocks, each with the specified number of layers abd embedding size.\n",
    "    - Initializes a final linear layer to project the decoder output to the target vocabulary size.\n",
    "- `forward`:\n",
    "    - Looks up embeddings for the source (`src`) and target (`tgt`) sequences.\n",
    "    - Adds positional encodings to both the source and target embeddings.\n",
    "    - Passes the source embeddings through the encoder layers sequentially.\n",
    "    - Passes the target embeddings through the decoder layers sequentially, using the encoder output and the target mask `tgt_mask` to prevent attending to future tokens.\n",
    "    - Projects the final decoder output to the target vocabulary size using the linear layer. Apply `log_softmax` to get log-probabilities for each token in the target vocabulary."
   ]
  },
  {
   "cell_type": "code",
   "execution_count": 7,
   "id": "0f5bbddb",
   "metadata": {},
   "outputs": [],
   "source": [
    "# ===== Full Translator =====\n",
    "class NumberToWordTranslator(nn.Module):\n",
    "    def __init__(self, src_vocab, tgt_vocab, emb_size=64, num_heads=2, num_layers=1, dropout=0.1, use_cross_attn=True):\n",
    "        super().__init__()\n",
    "        \n",
    "        self.src_emb = nn.Embedding(src_vocab, emb_size)\n",
    "        self.tgt_emb = nn.Embedding(tgt_vocab, emb_size)\n",
    "\n",
    "        self.src_pos = PositionalEncoding(emb_size)\n",
    "        self.tgt_pos = PositionalEncoding(emb_size)\n",
    "\n",
    "        self.encoder = nn.ModuleList([\n",
    "            EncoderBlock(emb_size, num_heads, dropout=dropout)\n",
    "            for _ in range(num_layers)\n",
    "        ])\n",
    "\n",
    "        self.decoder = nn.ModuleList([\n",
    "            DecoderBlock(emb_size, num_heads, dropout=dropout, use_cross_attn=use_cross_attn)\n",
    "            for _ in range(num_layers)\n",
    "        ])\n",
    "\n",
    "        self.fc_out = nn.Linear(emb_size, tgt_vocab)\n",
    "\n",
    "    def forward(self, src, tgt_in, tgt_mask=None):\n",
    "\n",
    "        src = self.src_emb(src)                   # [batch, src_len, emb]\n",
    "        src = self.src_pos(src)                   # dodanie pozycji\n",
    "        for layer in self.encoder:\n",
    "            src = layer(src)                      # przejście przez kolejne EncoderBlocks\n",
    "\n",
    "        tgt = self.tgt_emb(tgt_in)                # [batch, tgt_len, emb]\n",
    "        tgt = self.tgt_pos(tgt)                   # dodanie pozycji\n",
    "        for layer in self.decoder:\n",
    "            tgt = layer(tgt, enc_out=src, tgt_mask=tgt_mask)  # cross-attention + self-attn\n",
    "\n",
    "        out = self.fc_out(tgt)                    # [batch, tgt_len, vocab]\n",
    "        out = F.log_softmax(out, dim=-1)          # log-probabilities\n",
    "        return out"
   ]
  },
  {
   "cell_type": "markdown",
   "id": "26f8ce19",
   "metadata": {},
   "source": [
    "To generate our dataset, we will create a simple function that generates random sequences of digits and their corresponding English word representations. \n",
    "\n",
    "1. `letters` includes the words for digits from 0 to 9 and a special `<BOS>` token to indicate the start of a sequence.\n",
    "2. `letter2idx` and `idx2letter` are dictionaries to map between words and their corresponding indices.\n",
    "3. `encode_word_sequence` converts a sequence of numbers, into their corresponding word indices.\n",
    "4. `generate_data` creates a dataset of random digit sequences and their word representations, returning them as tensors. `src` contains sequences of digits, `tgt_out` contains the target sequences we want to predict (words), and `tgt_in` contains the input sequences to the decoder (words shifted right with a `<BOS>` token at the start). \n",
    "\n",
    "<img src=https://raw.githubusercontent.com/vision-agh/DNN-Course-media/2d41174bc3e6d8e7ab0289d983343f5e0d5157c5/lab4_5_transformer/figures/pipeline.svg width=\"500\">"
   ]
  },
  {
   "cell_type": "code",
   "execution_count": 8,
   "id": "11057771",
   "metadata": {},
   "outputs": [
    {
     "name": "stdout",
     "output_type": "stream",
     "text": [
      "Source (numbers): tensor([[2, 7, 6]])\n",
      "Target Output (words) idx: tensor([[20, 23, 15, 19,  5, 22,  5, 14, 19,  9, 24]])\n",
      "Target Output (words) letter: ['T', 'W', 'O', 'S', 'E', 'V', 'E', 'N', 'S', 'I', 'X']\n",
      "Target Input (words with <BOS>) idx: tensor([[ 0, 20, 23, 15, 19,  5, 22,  5, 14, 19,  9]])\n",
      "Target Input (words with <BOS>) letter: ['<BOS>', 'T', 'W', 'O', 'S', 'E', 'V', 'E', 'N', 'S', 'I']\n"
     ]
    }
   ],
   "source": [
    "# ===== Dataset generator =====\n",
    "mapping = {\n",
    "    0: \"ZERO\", 1: \"ONE\", 2: \"TWO\", 3: \"THREE\", 4: \"FOUR\",\n",
    "    5: \"FIVE\", 6: \"SIX\", 7: \"SEVEN\", 8: \"EIGHT\", 9: \"NINE\"\n",
    "}\n",
    "letters = [\"<BOS>\"] + [chr(i) for i in range(ord(\"A\"), ord(\"Z\")+1)]\n",
    "letter2idx = {ch:i for i,ch in enumerate(letters)}\n",
    "idx2letter = {i:ch for ch,i in letter2idx.items()}\n",
    "\n",
    "def encode_word_sequence(numbers):\n",
    "    out = []\n",
    "    for n in numbers:\n",
    "        for ch in mapping[int(n)]:\n",
    "            out.append(letter2idx[ch])\n",
    "    return out\n",
    "\n",
    "def generate_data(batch, length):\n",
    "    src = torch.randint(0, 10, (batch, length))\n",
    "    tgt_out_list = [encode_word_sequence(seq) for seq in src]\n",
    "    max_len = max(len(seq) for seq in tgt_out_list)\n",
    "    tgt_out = torch.zeros((batch, max_len), dtype=torch.long)\n",
    "    tgt_in  = torch.zeros((batch, max_len), dtype=torch.long)\n",
    "    for i, seq in enumerate(tgt_out_list):\n",
    "        tgt_out[i,:len(seq)] = torch.tensor(seq)\n",
    "        tgt_in[i,1:len(seq)] = torch.tensor(seq[:-1])  # shifted with <BOS>=0\n",
    "    return src, tgt_in, tgt_out\n",
    "\n",
    "# Example usage\n",
    "src, tgt_in, tgt_out = generate_data(batch=1, length=3)\n",
    "print(\"Source (numbers):\", src)\n",
    "print(\"Target Output (words) idx:\", tgt_out)\n",
    "print(\"Target Output (words) letter:\", [idx2letter[tgt_out[0,i].item()] for i in range(tgt_out.size(1))])\n",
    "print(\"Target Input (words with <BOS>) idx:\", tgt_in)\n",
    "print(\"Target Input (words with <BOS>) letter:\", [idx2letter[tgt_in[0,i].item()] for i in range(tgt_in.size(1))])"
   ]
  },
  {
   "cell_type": "markdown",
   "id": "9fdd334a",
   "metadata": {},
   "source": [
    "We implement a function `make_casual_mask` to create a causal mask for the decoder's self-attention mechanism. This mask ensures that each position in the target sequence can only attend to previous positions and itself, preventing the model from \"cheating\" by looking ahead at future tokens during training.\n",
    "\n",
    "Why this mask is triangular?\n",
    "The mask is triangular because it enforces a causal structure in the attention mechanism. In sequence-to-sequence tasks, when predicting the next token in a sequence, the model should not have access to future tokens. The triangular mask achieves this by allowing each position to attend only to itself and all previous positions, while masking out (setting to zero) any future positions. \n",
    "\n",
    "<img src=https://raw.githubusercontent.com/vision-agh/DNN-Course-media/2d41174bc3e6d8e7ab0289d983343f5e0d5157c5/lab4_5_transformer/figures/mask.svg width=\"300\">"
   ]
  },
  {
   "cell_type": "code",
   "execution_count": 9,
   "id": "4c495801",
   "metadata": {},
   "outputs": [],
   "source": [
    "# ===== Causal Mask and Attention Visualization =====\n",
    "def make_causal_mask(seq_len):\n",
    "    return torch.tril(torch.ones(seq_len, seq_len)).unsqueeze(0)\n",
    "\n",
    "def plot_attn(attn_maps, title):\n",
    "    num_heads = len(attn_maps)\n",
    "    fig, axes = plt.subplots(1, num_heads, figsize=(5 * num_heads, 5))\n",
    "    if num_heads == 1:\n",
    "        axes = [axes]\n",
    "    for i, attn in enumerate(attn_maps):\n",
    "        axes[i].imshow(attn[0].cpu(), cmap='viridis', aspect='auto')\n",
    "        axes[i].set_title(f\"{title} - Head {i+1}\")\n",
    "        axes[i].set_xlabel(\"Key positions\")\n",
    "        axes[i].set_ylabel(\"Query positions\")\n",
    "    plt.tight_layout()\n",
    "    plt.show()\n"
   ]
  },
  {
   "cell_type": "markdown",
   "id": "e0a5314f",
   "metadata": {},
   "source": [
    "# Training the Model\n",
    "\n",
    "The training loop will involve generating batches of data, passing them through the model, computing the loss, and updating the model parameters using backpropagation.\n",
    "We will use the Adam optimizer and Cross-Entropy loss for training. Additionally, we will log the training loss with attention maps to Weights & Biases (wandb) for monitoring."
   ]
  },
  {
   "cell_type": "code",
   "execution_count": 10,
   "id": "75e2ce51",
   "metadata": {},
   "outputs": [
    {
     "name": "stdout",
     "output_type": "stream",
     "text": [
      "NumberToWordTranslator(\n",
      "  (src_emb): Embedding(10, 64)\n",
      "  (tgt_emb): Embedding(27, 64)\n",
      "  (src_pos): PositionalEncoding()\n",
      "  (tgt_pos): PositionalEncoding()\n",
      "  (encoder): ModuleList(\n",
      "    (0-1): 2 x EncoderBlock(\n",
      "      (attn): MultiHeadAttention(\n",
      "        (heads): ModuleList(\n",
      "          (0-1): 2 x Head(\n",
      "            (key): Linear(in_features=64, out_features=32, bias=False)\n",
      "            (query): Linear(in_features=64, out_features=32, bias=False)\n",
      "            (value): Linear(in_features=64, out_features=32, bias=False)\n",
      "            (dropout): Dropout(p=0.1, inplace=False)\n",
      "          )\n",
      "        )\n",
      "        (linear): Linear(in_features=64, out_features=64, bias=True)\n",
      "        (dropout): Dropout(p=0.1, inplace=False)\n",
      "      )\n",
      "      (norm1): LayerNorm((64,), eps=1e-05, elementwise_affine=True)\n",
      "      (norm2): LayerNorm((64,), eps=1e-05, elementwise_affine=True)\n",
      "      (ff): FeedForwardBLock(\n",
      "        (linear1): Linear(in_features=64, out_features=128, bias=True)\n",
      "        (gelu): GELU(approximate='none')\n",
      "        (linear2): Linear(in_features=128, out_features=64, bias=True)\n",
      "        (dropout): Dropout(p=0.1, inplace=False)\n",
      "      )\n",
      "      (dropout): Dropout(p=0.5, inplace=False)\n",
      "    )\n",
      "  )\n",
      "  (decoder): ModuleList(\n",
      "    (0-1): 2 x DecoderBlock(\n",
      "      (self_attn): MultiHeadAttention(\n",
      "        (heads): ModuleList(\n",
      "          (0-1): 2 x Head(\n",
      "            (key): Linear(in_features=64, out_features=32, bias=False)\n",
      "            (query): Linear(in_features=64, out_features=32, bias=False)\n",
      "            (value): Linear(in_features=64, out_features=32, bias=False)\n",
      "            (dropout): Dropout(p=0.1, inplace=False)\n",
      "          )\n",
      "        )\n",
      "        (linear): Linear(in_features=64, out_features=64, bias=True)\n",
      "        (dropout): Dropout(p=0.1, inplace=False)\n",
      "      )\n",
      "      (norm1): LayerNorm((64,), eps=1e-05, elementwise_affine=True)\n",
      "      (cross_attn): MultiHeadAttention(\n",
      "        (heads): ModuleList(\n",
      "          (0-1): 2 x Head(\n",
      "            (key): Linear(in_features=64, out_features=32, bias=False)\n",
      "            (query): Linear(in_features=64, out_features=32, bias=False)\n",
      "            (value): Linear(in_features=64, out_features=32, bias=False)\n",
      "            (dropout): Dropout(p=0.1, inplace=False)\n",
      "          )\n",
      "        )\n",
      "        (linear): Linear(in_features=64, out_features=64, bias=True)\n",
      "        (dropout): Dropout(p=0.1, inplace=False)\n",
      "      )\n",
      "      (norm2): LayerNorm((64,), eps=1e-05, elementwise_affine=True)\n",
      "      (norm3): LayerNorm((64,), eps=1e-05, elementwise_affine=True)\n",
      "      (ff): FeedForwardBLock(\n",
      "        (linear1): Linear(in_features=64, out_features=256, bias=True)\n",
      "        (gelu): GELU(approximate='none')\n",
      "        (linear2): Linear(in_features=256, out_features=64, bias=True)\n",
      "        (dropout): Dropout(p=0.1, inplace=False)\n",
      "      )\n",
      "      (dropout): Dropout(p=0.1, inplace=False)\n",
      "    )\n",
      "  )\n",
      "  (fc_out): Linear(in_features=64, out_features=27, bias=True)\n",
      ")\n"
     ]
    }
   ],
   "source": [
    "src_vocab = 10\n",
    "tgt_vocab = len(letters)  # 27\n",
    "model = NumberToWordTranslator(src_vocab, tgt_vocab, emb_size=64, num_heads=2, num_layers=2, use_cross_attn=True).to(device)\n",
    "\n",
    "opt = torch.optim.Adam(model.parameters(), lr=1e-3)\n",
    "loss_fn = nn.CrossEntropyLoss()\n",
    "\n",
    "print(model)"
   ]
  },
  {
   "cell_type": "code",
   "execution_count": 11,
   "id": "d58e3238",
   "metadata": {},
   "outputs": [
    {
     "data": {
      "text/html": [],
      "text/plain": [
       "<IPython.core.display.HTML object>"
      ]
     },
     "metadata": {},
     "output_type": "display_data"
    },
    {
     "data": {
      "text/html": [
       "Tracking run with wandb version 0.22.1"
      ],
      "text/plain": [
       "<IPython.core.display.HTML object>"
      ]
     },
     "metadata": {},
     "output_type": "display_data"
    },
    {
     "data": {
      "text/html": [
       "Run data is saved locally in <code>/home/patryk/Desktop/AiR_ISS/sem2/wandb/run-20251015_165550-w2ijrfqk</code>"
      ],
      "text/plain": [
       "<IPython.core.display.HTML object>"
      ]
     },
     "metadata": {},
     "output_type": "display_data"
    },
    {
     "data": {
      "text/html": [
       "Syncing run <strong><a href='https://wandb.ai/deep-neural-network-course/lab4-transformer/runs/w2ijrfqk' target=\"_blank\">Patryk Lorenc</a></strong> to <a href='https://wandb.ai/deep-neural-network-course/lab4-transformer' target=\"_blank\">Weights & Biases</a> (<a href='https://wandb.me/developer-guide' target=\"_blank\">docs</a>)<br>"
      ],
      "text/plain": [
       "<IPython.core.display.HTML object>"
      ]
     },
     "metadata": {},
     "output_type": "display_data"
    },
    {
     "data": {
      "text/html": [
       " View project at <a href='https://wandb.ai/deep-neural-network-course/lab4-transformer' target=\"_blank\">https://wandb.ai/deep-neural-network-course/lab4-transformer</a>"
      ],
      "text/plain": [
       "<IPython.core.display.HTML object>"
      ]
     },
     "metadata": {},
     "output_type": "display_data"
    },
    {
     "data": {
      "text/html": [
       " View run at <a href='https://wandb.ai/deep-neural-network-course/lab4-transformer/runs/w2ijrfqk' target=\"_blank\">https://wandb.ai/deep-neural-network-course/lab4-transformer/runs/w2ijrfqk</a>"
      ],
      "text/plain": [
       "<IPython.core.display.HTML object>"
      ]
     },
     "metadata": {},
     "output_type": "display_data"
    },
    {
     "name": "stdout",
     "output_type": "stream",
     "text": [
      "Step 0, loss 3.4627\n",
      "Step 100, loss 0.6568\n",
      "Step 200, loss 0.3081\n",
      "Step 300, loss 0.1629\n",
      "Step 400, loss 0.1257\n",
      "Step 500, loss 0.0708\n",
      "Step 600, loss 0.0708\n",
      "Step 700, loss 0.0451\n",
      "Step 800, loss 0.0346\n",
      "Step 900, loss 0.0144\n",
      "Step 1000, loss 0.0358\n",
      "Step 1100, loss 0.0244\n",
      "Step 1200, loss 0.0357\n",
      "Step 1300, loss 0.0165\n",
      "Step 1400, loss 0.0397\n",
      "Step 1500, loss 0.0079\n",
      "Step 1600, loss 0.0248\n",
      "Step 1700, loss 0.0052\n",
      "Step 1800, loss 0.0218\n",
      "Step 1900, loss 0.0563\n"
     ]
    },
    {
     "data": {
      "text/html": [],
      "text/plain": [
       "<IPython.core.display.HTML object>"
      ]
     },
     "metadata": {},
     "output_type": "display_data"
    },
    {
     "data": {
      "text/html": [
       "<br>    <style><br>        .wandb-row {<br>            display: flex;<br>            flex-direction: row;<br>            flex-wrap: wrap;<br>            justify-content: flex-start;<br>            width: 100%;<br>        }<br>        .wandb-col {<br>            display: flex;<br>            flex-direction: column;<br>            flex-basis: 100%;<br>            flex: 1;<br>            padding: 10px;<br>        }<br>    </style><br><div class=\"wandb-row\"><div class=\"wandb-col\"><h3>Run history:</h3><br/><table class=\"wandb\"><tr><td>loss</td><td>██▆▆▅▃▄▄▂▂▂▂▂▂▁▁▁▁▁▁▁▁▁▁▁▁▁▁▁▁▁▁▁▁▁▁▁▁▁▁</td></tr></table><br/></div><div class=\"wandb-col\"><h3>Run summary:</h3><br/><table class=\"wandb\"><tr><td>loss</td><td>0.00647</td></tr></table><br/></div></div>"
      ],
      "text/plain": [
       "<IPython.core.display.HTML object>"
      ]
     },
     "metadata": {},
     "output_type": "display_data"
    },
    {
     "data": {
      "text/html": [
       " View run <strong style=\"color:#cdcd00\">Patryk Lorenc</strong> at: <a href='https://wandb.ai/deep-neural-network-course/lab4-transformer/runs/w2ijrfqk' target=\"_blank\">https://wandb.ai/deep-neural-network-course/lab4-transformer/runs/w2ijrfqk</a><br> View project at: <a href='https://wandb.ai/deep-neural-network-course/lab4-transformer' target=\"_blank\">https://wandb.ai/deep-neural-network-course/lab4-transformer</a><br>Synced 5 W&B file(s), 120 media file(s), 0 artifact file(s) and 0 other file(s)"
      ],
      "text/plain": [
       "<IPython.core.display.HTML object>"
      ]
     },
     "metadata": {},
     "output_type": "display_data"
    },
    {
     "data": {
      "text/html": [
       "Find logs at: <code>./wandb/run-20251015_165550-w2ijrfqk/logs</code>"
      ],
      "text/plain": [
       "<IPython.core.display.HTML object>"
      ]
     },
     "metadata": {},
     "output_type": "display_data"
    },
    {
     "name": "stdout",
     "output_type": "stream",
     "text": [
      "SRC digits: [2, 4, 0, 2, 2]\n",
      "TARGET letters: ['T', 'W', 'O', 'F', 'O', 'U', 'R', 'Z', 'E', 'R', 'O', 'T', 'W', 'O', 'T', 'W', 'O']\n",
      "PRED   letters: ['T', 'W', 'O', 'F', 'O', 'U', 'R', 'Z', 'E', 'R', 'O', 'T', 'W', 'O', 'T', 'W', 'O']\n"
     ]
    },
    {
     "data": {
      "image/png": "[encoded data removed]",
      "text/plain": [
       "<Figure size 1000x500 with 2 Axes>"
      ]
     },
     "metadata": {},
     "output_type": "display_data"
    },
    {
     "data": {
      "image/png": "[encoded data removed]",
      "text/plain": [
       "<Figure size 1000x500 with 2 Axes>"
      ]
     },
     "metadata": {},
     "output_type": "display_data"
    },
    {
     "data": {
      "image/png": "[encoded data removed]",
      "text/plain": [
       "<Figure size 1000x500 with 2 Axes>"
      ]
     },
     "metadata": {},
     "output_type": "display_data"
    }
   ],
   "source": [
    "# ===== Training =====\n",
    "wandb.init(\n",
    "        project=\"lab4-transformer\",             # do not change this line ! \n",
    "        entity=\"deep-neural-network-course\",    # do not change this line ! \n",
    "        group=\"translator\",                     # do not change this line ! \n",
    "        name=\"Patryk Lorenc\",                             # change to your name \n",
    "        settings=wandb.Settings(save_code=False) # do not change this line ! \n",
    ")\n",
    "\n",
    "for step in range(2000):\n",
    "        src, tgt_in, tgt_out = generate_data(batch=16, length=5)\n",
    "        tgt_mask = make_causal_mask(tgt_in.size(1))\n",
    "        src, tgt_in, tgt_out, tgt_mask = src.to(device), tgt_in.to(device), tgt_out.to(device), tgt_mask.to(device)\n",
    "\n",
    "        logits = model(src, tgt_in, tgt_mask)\n",
    "        loss = loss_fn(logits.view(-1, tgt_vocab), tgt_out.view(-1))\n",
    "\n",
    "        opt.zero_grad()\n",
    "        loss.backward()\n",
    "        opt.step()\n",
    "\n",
    "        wandb.log({\"loss\": loss.item()})\n",
    "\n",
    "        if step % 100 == 0:\n",
    "                print(f\"Step {step}, loss {loss.item():.4f}\")\n",
    "                # logging to wandb self attention maps\n",
    "                enc_self_attn = model.encoder[-1].attn.get_attention_maps()\n",
    "                for i, attn in enumerate(enc_self_attn):\n",
    "                        wandb.log({f\"Encoder Self Attention - Head {i+1}\": wandb.Image(attn[0].cpu().numpy())})\n",
    "                self_attn = model.decoder[-1].self_attn.get_attention_maps()\n",
    "                for i, attn in enumerate(self_attn):\n",
    "                        wandb.log({f\"Self Attention - Head {i+1}\": wandb.Image(attn[0].cpu().numpy())})\n",
    "                cross_attn = model.decoder[-1].cross_attn.get_attention_maps()\n",
    "                for i, attn in enumerate(cross_attn):\n",
    "                        wandb.log({f\"Cross Attention - Head {i+1}\": wandb.Image(attn[0].cpu().numpy())})\n",
    "\n",
    "wandb.finish()\n",
    "\n",
    "# Test\n",
    "src, tgt_in, tgt_out = generate_data(1, length=5)\n",
    "tgt_mask = make_causal_mask(tgt_in.size(1))\n",
    "src, tgt_in, tgt_out, tgt_mask = src.to(device), tgt_in.to(device), tgt_out.to(device), tgt_mask.to(device)\n",
    "logits = model(src, tgt_in, tgt_mask)\n",
    "pred = logits.argmax(-1)[0].tolist()\n",
    "\n",
    "print(\"SRC digits:\", src.tolist()[0])\n",
    "print(\"TARGET letters:\", [idx2letter[i.item()] for i in tgt_out[0] if i>0])\n",
    "print(\"PRED   letters:\", [idx2letter[i] for i in pred if i>0])\n",
    "\n",
    "# Show self-attention maps in encoder\n",
    "enc_self_attn = model.encoder[-1].attn.get_attention_maps()\n",
    "plot_attn(enc_self_attn, \"Encoder Self Attention\")\n",
    "\n",
    "# Show self-attention maps\n",
    "self_attn = model.decoder[-1].self_attn.get_attention_maps()\n",
    "plot_attn(self_attn, \"Self Attention\")\n",
    "\n",
    "# Show cross-attention maps\n",
    "cross_attn = model.decoder[-1].cross_attn.get_attention_maps()\n",
    "plot_attn(cross_attn, \"Cross Attention\")\n"
   ]
  },
  {
   "cell_type": "code",
   "execution_count": null,
   "id": "52b9ccca",
   "metadata": {},
   "outputs": [],
   "source": []
  }
 ],
 "metadata": {
  "kernelspec": {
   "display_name": "Python (ML_venv)",
   "language": "python",
   "name": "ml_venv"
  },
  "language_info": {
   "codemirror_mode": {
    "name": "ipython",
    "version": 3
   },
   "file_extension": ".py",
   "mimetype": "text/x-python",
   "name": "python",
   "nbconvert_exporter": "python",
   "pygments_lexer": "ipython3",
   "version": "3.10.12"
  }
 },
 "nbformat": 4,
 "nbformat_minor": 5
}
