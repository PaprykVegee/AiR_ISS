{
 "cells": [
  {
   "cell_type": "code",
   "execution_count": 4,
   "id": "79c28ec2",
   "metadata": {},
   "outputs": [],
   "source": [
    "import gymnasium as gym"
   ]
  },
  {
   "cell_type": "markdown",
   "id": "64f5126d",
   "metadata": {},
   "source": [
    "### Inplementacja Q Learn z polityka Epsilon Greedy"
   ]
  },
  {
   "cell_type": "code",
   "execution_count": 5,
   "id": "44e75f6c",
   "metadata": {},
   "outputs": [],
   "source": [
    "import random\n",
    "import numpy as np\n",
    "from tqdm.auto import tqdm\n",
    "\n",
    "class Q_Learn:\n",
    "    def __init__(self, epsilon, gamma, lr, env):\n",
    "        self.epsilon = epsilon\n",
    "        self.initial_epsilon = epsilon  \n",
    "        self.gamma = gamma\n",
    "        self.lr = lr\n",
    "        self.env = env\n",
    "        self.q_table = self._init_qtable(env)  # Użyj _ zamiast __ dla metod wewnętrznych\n",
    "\n",
    "    def _init_qtable(self, env):\n",
    "        \"\"\"Inicjalizuje Q-table o kształcie (num_states, num_actions).\"\"\"\n",
    "        if isinstance(env.observation_space, gym.spaces.Discrete):\n",
    "            num_states = env.observation_space.n\n",
    "        else:\n",
    "            raise ValueError(\"Tylko środowiska z dyskretnymi stanami są obsługiwane!\")\n",
    "        num_actions = env.action_space.n\n",
    "        return np.zeros((num_states, num_actions))\n",
    "\n",
    "    def _greedy_policy(self, state):\n",
    "        \"\"\"Zwraca akcję o najwyższej wartości Q dla danego stanu.\"\"\"\n",
    "        return np.argmax(self.q_table[state])\n",
    "\n",
    "    def epsilon_greedy_policy(self, state):\n",
    "        \"\"\"ε-zachłanna polityka wyboru akcji.\"\"\"\n",
    "        if random.random() > self.epsilon:\n",
    "            return self._greedy_policy(state)\n",
    "        else:\n",
    "            return self.env.action_space.sample()\n",
    "\n",
    "    def reduce_epsilon(self, epoch, total_epochs):\n",
    "        \"\"\"Liniowa redukcja epsilon w trakcie treningu.\"\"\"\n",
    "        self.epsilon = max(self.initial_epsilon * (1 - epoch / total_epochs), 0.01)\n",
    "\n",
    "    def train(self, epochs, max_steps):\n",
    "        for epoch in tqdm(range(epochs)):\n",
    "            state, info = self.env.reset()\n",
    "            terminated, truncated = False, False\n",
    "\n",
    "            for _ in range(max_steps):\n",
    "                action = self.epsilon_greedy_policy(state)\n",
    "                new_state, reward, terminated, truncated, info = self.env.step(action)\\\n",
    "\n",
    "                best_next_action = np.argmax(self.q_table[new_state])\n",
    "                td_target = reward + self.gamma * self.q_table[new_state][best_next_action]\n",
    "                self.q_table[state][action] += self.lr * (td_target - self.q_table[state][action])\n",
    "\n",
    "                if terminated or truncated:\n",
    "                    break\n",
    "                state = new_state\n",
    "\n",
    "            self.reduce_epsilon(epoch, epochs)\n",
    "\n",
    "        print(\"Trening zakończony!\")\n",
    "\n",
    "    def evaluate(self, eval_epochs,  max_steps, seed):\n",
    "        episode_rewards = []\n",
    "        for epoch in range(eval_epochs):\n",
    "            if seed:\n",
    "                state, info = self.env.reset(seed = random.randint(0, seed))\n",
    "            else:\n",
    "                state, info = self.env.reset()\n",
    "\n",
    "            step = 0\n",
    "            truncated = False\n",
    "            terminated = False\n",
    "            total_rewards_ep = 0\n",
    "\n",
    "            for step in range(max_steps):\n",
    "                action = self._greedy_policy(state)\n",
    "                new_state, reward, terminated, truncated, info = self.env.step(action)\\\n",
    "\n",
    "                total_rewards_ep += reward\n",
    "\n",
    "                if terminated or truncated:\n",
    "                    break\n",
    "\n",
    "                state = new_state\n",
    "            episode_rewards.append(total_rewards_ep)\n",
    "        mean_reward = np.mean(episode_rewards)\n",
    "        std_reward = np.std(reward)\n",
    "\n",
    "        return mean_reward, std_reward"
   ]
  },
  {
   "cell_type": "code",
   "execution_count": 6,
   "id": "9b12764b",
   "metadata": {},
   "outputs": [],
   "source": [
    "import cv2\n",
    "import time\n",
    "\n",
    "def record_video(env, Qtable, fps=10):\n",
    "    \"\"\"\n",
    "    Wyświetl wideo z działania agenta opartego na Qtable.\n",
    "    :param env: środowisko Gym z render_mode='rgb_array'\n",
    "    :param Qtable: wytrenowana tablica Q\n",
    "    :param fps: liczba klatek na sekundę (domyślnie 1)\n",
    "    \"\"\"\n",
    "    state, info = env.reset(seed=random.randint(0, 500))\n",
    "    terminated = False\n",
    "    truncated = False\n",
    "\n",
    "    frames = []\n",
    "\n",
    "    while not (terminated or truncated):\n",
    "        frame = env.render()  # render_mode='rgb_array' zwraca klatkę jako obraz\n",
    "        frame_bgr = cv2.cvtColor(frame, cv2.COLOR_RGB2BGR)  # OpenCV używa BGR\n",
    "        frames.append(frame_bgr)\n",
    "\n",
    "        action = np.argmax(Qtable[state])\n",
    "        state, reward, terminated, truncated, info = env.step(action)\n",
    "\n",
    "    env.close()\n",
    "\n",
    "    return frames"
   ]
  },
  {
   "cell_type": "markdown",
   "id": "f12f413c",
   "metadata": {},
   "source": [
    "### Frozeem lake from openAI gym. With not slippery  `is_slippery=False`"
   ]
  },
  {
   "cell_type": "code",
   "execution_count": 7,
   "id": "acbcd9fe",
   "metadata": {},
   "outputs": [],
   "source": [
    "env = gym.make('FrozenLake-v1', map_name = \"8x8\", is_slippery = False)"
   ]
  },
  {
   "cell_type": "code",
   "execution_count": 8,
   "id": "fdc8f58c",
   "metadata": {},
   "outputs": [
    {
     "name": "stdout",
     "output_type": "stream",
     "text": [
      "_____OBSERVATION SPACE_____ \n",
      "\n",
      "Observation Space Discrete(64)\n",
      "Sample observation 9\n"
     ]
    }
   ],
   "source": [
    "print(\"_____OBSERVATION SPACE_____ \\n\")\n",
    "print(\"Observation Space\", env.observation_space)\n",
    "print(\"Sample observation\", env.observation_space.sample()) # Get a random observation"
   ]
  },
  {
   "cell_type": "code",
   "execution_count": 9,
   "id": "2c9ab416",
   "metadata": {},
   "outputs": [
    {
     "name": "stdout",
     "output_type": "stream",
     "text": [
      "\n",
      " _____ACTION SPACE_____ \n",
      "\n",
      "Action Space Shape 4\n",
      "Action Space Sample 0\n"
     ]
    }
   ],
   "source": [
    "print(\"\\n _____ACTION SPACE_____ \\n\")\n",
    "print(\"Action Space Shape\", env.action_space.n)\n",
    "print(\"Action Space Sample\", env.action_space.sample())"
   ]
  },
  {
   "cell_type": "code",
   "execution_count": 10,
   "id": "08041e96",
   "metadata": {},
   "outputs": [],
   "source": [
    "agent = Q_Learn(epsilon=0.9, gamma=0.99, lr=0.1, env=env)"
   ]
  },
  {
   "cell_type": "code",
   "execution_count": 15,
   "id": "a03e2d78",
   "metadata": {},
   "outputs": [
    {
     "name": "stderr",
     "output_type": "stream",
     "text": [
      "100%|██████████| 30000/30000 [00:14<00:00, 2076.42it/s]"
     ]
    },
    {
     "name": "stdout",
     "output_type": "stream",
     "text": [
      "Trening zakończony!\n"
     ]
    },
    {
     "name": "stderr",
     "output_type": "stream",
     "text": [
      "\n"
     ]
    }
   ],
   "source": [
    "agent.train(epochs=30000, max_steps=500)"
   ]
  },
  {
   "cell_type": "code",
   "execution_count": 16,
   "id": "faaa1f06",
   "metadata": {},
   "outputs": [
    {
     "data": {
      "text/plain": [
       "array([[8.68745813e-01, 8.77521023e-01, 8.77521023e-01, 8.68745813e-01],\n",
       "       [8.68745813e-01, 8.86384872e-01, 8.86384872e-01, 8.77521023e-01],\n",
       "       [8.77521023e-01, 8.95338254e-01, 8.95338254e-01, 8.86384872e-01],\n",
       "       [8.86384872e-01, 9.04382075e-01, 9.04382075e-01, 8.95338254e-01],\n",
       "       [8.95338254e-01, 9.13517247e-01, 9.13517247e-01, 9.04382075e-01],\n",
       "       [9.04382075e-01, 9.22744694e-01, 9.22744694e-01, 9.13517247e-01],\n",
       "       [9.13517247e-01, 9.32065348e-01, 9.32065348e-01, 9.22744694e-01],\n",
       "       [9.22744692e-01, 9.41480149e-01, 9.32065343e-01, 9.32065347e-01],\n",
       "       [8.77521023e-01, 8.86384872e-01, 8.86384872e-01, 8.68745813e-01],\n",
       "       [8.77521023e-01, 8.95338254e-01, 8.95338254e-01, 8.77521023e-01],\n",
       "       [8.86384872e-01, 9.04382075e-01, 9.04382075e-01, 8.86384872e-01],\n",
       "       [8.95338254e-01, 0.00000000e+00, 9.13517247e-01, 8.95338254e-01],\n",
       "       [9.04382075e-01, 9.22744694e-01, 9.22744694e-01, 9.04382075e-01],\n",
       "       [9.13517247e-01, 9.32065348e-01, 9.32065348e-01, 9.13517247e-01],\n",
       "       [9.22744694e-01, 9.41480149e-01, 9.41480149e-01, 9.22744694e-01],\n",
       "       [9.32065348e-01, 9.50990050e-01, 9.41480149e-01, 9.32065348e-01],\n",
       "       [8.86384872e-01, 8.95338254e-01, 8.95338254e-01, 8.77521023e-01],\n",
       "       [8.86384872e-01, 9.04382075e-01, 9.04382075e-01, 8.86384872e-01],\n",
       "       [8.95338254e-01, 9.13517247e-01, 0.00000000e+00, 8.95338254e-01],\n",
       "       [0.00000000e+00, 0.00000000e+00, 0.00000000e+00, 0.00000000e+00],\n",
       "       [0.00000000e+00, 9.32065348e-01, 9.32065348e-01, 9.13517247e-01],\n",
       "       [9.22744694e-01, 0.00000000e+00, 9.41480149e-01, 9.22744694e-01],\n",
       "       [9.32065348e-01, 9.50990050e-01, 9.50990050e-01, 9.32065348e-01],\n",
       "       [9.41480149e-01, 9.60596010e-01, 9.50990050e-01, 9.41480149e-01],\n",
       "       [8.95338254e-01, 8.86384872e-01, 9.04382075e-01, 8.86384872e-01],\n",
       "       [8.95338254e-01, 8.95338254e-01, 9.13517247e-01, 8.95338254e-01],\n",
       "       [9.04382075e-01, 9.04382075e-01, 9.22744694e-01, 9.04382075e-01],\n",
       "       [9.13517247e-01, 0.00000000e+00, 9.32065348e-01, 0.00000000e+00],\n",
       "       [9.22744694e-01, 9.41480149e-01, 0.00000000e+00, 9.22744694e-01],\n",
       "       [0.00000000e+00, 0.00000000e+00, 0.00000000e+00, 0.00000000e+00],\n",
       "       [0.00000000e+00, 9.60596010e-01, 9.60596010e-01, 9.41480149e-01],\n",
       "       [9.50990050e-01, 9.70299000e-01, 9.60596010e-01, 9.50990050e-01],\n",
       "       [8.86384872e-01, 8.77521023e-01, 8.95338254e-01, 8.95338254e-01],\n",
       "       [8.86384872e-01, 0.00000000e+00, 9.04382075e-01, 9.04382075e-01],\n",
       "       [8.95338254e-01, 0.00000000e+00, 0.00000000e+00, 9.13517247e-01],\n",
       "       [0.00000000e+00, 0.00000000e+00, 0.00000000e+00, 0.00000000e+00],\n",
       "       [0.00000000e+00, 9.32065348e-01, 9.50990050e-01, 9.32065348e-01],\n",
       "       [9.41480149e-01, 9.41480149e-01, 9.60596010e-01, 0.00000000e+00],\n",
       "       [9.50990050e-01, 0.00000000e+00, 9.70299000e-01, 9.50990050e-01],\n",
       "       [9.60596010e-01, 9.80100000e-01, 9.70299000e-01, 9.60596010e-01],\n",
       "       [8.77418132e-01, 8.58618145e-01, 0.00000000e+00, 8.86384872e-01],\n",
       "       [0.00000000e+00, 0.00000000e+00, 0.00000000e+00, 0.00000000e+00],\n",
       "       [0.00000000e+00, 0.00000000e+00, 0.00000000e+00, 0.00000000e+00],\n",
       "       [0.00000000e+00, 3.73848237e-01, 9.32062234e-01, 0.00000000e+00],\n",
       "       [9.22727398e-01, 0.00000000e+00, 9.41480128e-01, 9.41480149e-01],\n",
       "       [9.32064885e-01, 9.31261040e-01, 0.00000000e+00, 9.50990050e-01],\n",
       "       [0.00000000e+00, 0.00000000e+00, 0.00000000e+00, 0.00000000e+00],\n",
       "       [0.00000000e+00, 9.90000000e-01, 9.80100000e-01, 9.70299000e-01],\n",
       "       [5.69863282e-01, 2.74980380e-01, 0.00000000e+00, 8.74961711e-01],\n",
       "       [0.00000000e+00, 0.00000000e+00, 0.00000000e+00, 0.00000000e+00],\n",
       "       [0.00000000e+00, 0.00000000e+00, 0.00000000e+00, 0.00000000e+00],\n",
       "       [0.00000000e+00, 0.00000000e+00, 0.00000000e+00, 6.58323474e-01],\n",
       "       [0.00000000e+00, 0.00000000e+00, 0.00000000e+00, 0.00000000e+00],\n",
       "       [0.00000000e+00, 2.53581311e-01, 0.00000000e+00, 9.41343533e-01],\n",
       "       [0.00000000e+00, 0.00000000e+00, 0.00000000e+00, 0.00000000e+00],\n",
       "       [0.00000000e+00, 1.00000000e+00, 9.90000000e-01, 9.80100000e-01],\n",
       "       [1.08992536e-01, 5.04325314e-02, 1.65906593e-02, 5.73320235e-01],\n",
       "       [6.00953838e-02, 8.23479903e-03, 1.58583506e-08, 0.00000000e+00],\n",
       "       [2.15655071e-03, 5.85178990e-09, 0.00000000e+00, 0.00000000e+00],\n",
       "       [0.00000000e+00, 0.00000000e+00, 0.00000000e+00, 0.00000000e+00],\n",
       "       [0.00000000e+00, 0.00000000e+00, 0.00000000e+00, 0.00000000e+00],\n",
       "       [0.00000000e+00, 8.98527347e-02, 2.77200000e-02, 5.66505415e-01],\n",
       "       [0.00000000e+00, 0.00000000e+00, 2.71000000e-01, 0.00000000e+00],\n",
       "       [0.00000000e+00, 0.00000000e+00, 0.00000000e+00, 0.00000000e+00]])"
      ]
     },
     "execution_count": 16,
     "metadata": {},
     "output_type": "execute_result"
    }
   ],
   "source": [
    "agent.q_table"
   ]
  },
  {
   "cell_type": "code",
   "execution_count": 17,
   "id": "400aea88",
   "metadata": {},
   "outputs": [
    {
     "name": "stdout",
     "output_type": "stream",
     "text": [
      "1.0 0.0\n"
     ]
    }
   ],
   "source": [
    "mean_reward, std_reward = agent.evaluate(50, 50, 500)\n",
    "print(mean_reward, std_reward)"
   ]
  },
  {
   "cell_type": "code",
   "execution_count": 18,
   "id": "a664ee33",
   "metadata": {},
   "outputs": [
    {
     "data": {
      "text/plain": [
       "(14, 512, 512, 3)"
      ]
     },
     "execution_count": 18,
     "metadata": {},
     "output_type": "execute_result"
    }
   ],
   "source": [
    "env = gym.make('FrozenLake-v1', map_name = \"8x8\", is_slippery = False, render_mode='rgb_array')\n",
    "\n",
    "frames = record_video(env, agent.q_table)\n",
    "\n",
    "np.array(frames).shape"
   ]
  },
  {
   "cell_type": "code",
   "execution_count": 19,
   "id": "4c0c413a",
   "metadata": {},
   "outputs": [],
   "source": [
    "for frame in frames:\n",
    "    cv2.imshow('test', frame)\n",
    "\n",
    "    cv2.waitKey(200)\n",
    "\n",
    "cv2.destroyAllWindows()"
   ]
  },
  {
   "cell_type": "markdown",
   "id": "d224c393",
   "metadata": {},
   "source": [
    "### Frozeem lake from openAI gym. With not slippery  `is_slippery=True`"
   ]
  },
  {
   "cell_type": "code",
   "execution_count": 21,
   "id": "23bac66c",
   "metadata": {},
   "outputs": [
    {
     "name": "stderr",
     "output_type": "stream",
     "text": [
      "100%|██████████| 20000/20000 [00:24<00:00, 802.49it/s]"
     ]
    },
    {
     "name": "stdout",
     "output_type": "stream",
     "text": [
      "Trening zakończony!\n"
     ]
    },
    {
     "name": "stderr",
     "output_type": "stream",
     "text": [
      "\n"
     ]
    }
   ],
   "source": [
    "env = gym.make('FrozenLake-v1', map_name= \"8x8\", is_slippery = True)\n",
    "\n",
    "agent = Q_Learn(epsilon=0.9, gamma=0.99, lr=0.1, env=env)\n",
    "\n",
    "agent.train(20000, 500)"
   ]
  },
  {
   "cell_type": "code",
   "execution_count": 22,
   "id": "b86fb8b4",
   "metadata": {},
   "outputs": [
    {
     "data": {
      "text/plain": [
       "array([[4.00001152e-01, 4.00646722e-01, 3.95993457e-01, 4.26094682e-01],\n",
       "       [3.99210123e-01, 4.10604310e-01, 4.36328355e-01, 4.10725078e-01],\n",
       "       [4.16124600e-01, 4.21579396e-01, 4.58196527e-01, 4.02619568e-01],\n",
       "       [4.30704004e-01, 4.46455963e-01, 4.78255254e-01, 4.54171247e-01],\n",
       "       [4.56789227e-01, 4.61904534e-01, 5.14709827e-01, 4.63656118e-01],\n",
       "       [4.79484726e-01, 4.84523847e-01, 5.39128711e-01, 4.80454258e-01],\n",
       "       [5.09631490e-01, 5.14543223e-01, 5.58123195e-01, 5.14512794e-01],\n",
       "       [5.60134323e-01, 5.26046686e-01, 5.15476719e-01, 5.12007451e-01],\n",
       "       [3.84445396e-01, 3.73565564e-01, 3.80853674e-01, 4.21509975e-01],\n",
       "       [3.89566472e-01, 3.76348158e-01, 3.92395860e-01, 4.27503308e-01],\n",
       "       [4.06621645e-01, 3.89645435e-01, 3.95543956e-01, 4.47898597e-01],\n",
       "       [2.87915853e-01, 2.99384195e-01, 3.43337865e-01, 4.74089867e-01],\n",
       "       [4.24478506e-01, 4.47657474e-01, 4.53362913e-01, 5.08859885e-01],\n",
       "       [4.64492917e-01, 4.72850655e-01, 4.67547152e-01, 5.41031600e-01],\n",
       "       [5.23476210e-01, 5.21728212e-01, 5.72739783e-01, 5.17911848e-01],\n",
       "       [5.52056438e-01, 5.87189494e-01, 5.59686628e-01, 5.44774370e-01],\n",
       "       [3.65137562e-01, 3.65596456e-01, 3.65158772e-01, 3.71175709e-01],\n",
       "       [3.56823866e-01, 3.57169878e-01, 3.50183135e-01, 3.81210859e-01],\n",
       "       [3.78137877e-01, 2.33183920e-01, 2.16978219e-01, 3.13338071e-01],\n",
       "       [0.00000000e+00, 0.00000000e+00, 0.00000000e+00, 0.00000000e+00],\n",
       "       [1.90938894e-01, 2.67608378e-01, 4.28677595e-01, 3.21983201e-01],\n",
       "       [2.23954623e-01, 3.08240973e-01, 3.52513505e-01, 5.03250578e-01],\n",
       "       [5.14420524e-01, 5.25393724e-01, 5.84215939e-01, 5.06633032e-01],\n",
       "       [5.60139842e-01, 5.73286899e-01, 6.10597957e-01, 5.63714994e-01],\n",
       "       [3.30795259e-01, 3.24116185e-01, 3.30924658e-01, 3.36053907e-01],\n",
       "       [3.12388071e-01, 2.99922168e-01, 3.08705636e-01, 3.24390361e-01],\n",
       "       [3.25444256e-01, 2.08055491e-01, 2.02405841e-01, 2.43577890e-01],\n",
       "       [9.01689672e-02, 2.05686121e-01, 1.02806199e-01, 1.19427266e-01],\n",
       "       [2.95566981e-01, 1.06642837e-01, 1.75020075e-01, 1.94967995e-01],\n",
       "       [0.00000000e+00, 0.00000000e+00, 0.00000000e+00, 0.00000000e+00],\n",
       "       [3.03219394e-01, 3.82043690e-01, 5.93164624e-01, 4.14840052e-01],\n",
       "       [5.90976148e-01, 6.08322646e-01, 6.32454045e-01, 5.95592047e-01],\n",
       "       [2.81732808e-01, 2.67755537e-01, 2.60686479e-01, 3.14073436e-01],\n",
       "       [2.14539870e-01, 1.72883531e-01, 1.74278198e-01, 2.73016266e-01],\n",
       "       [1.40644136e-01, 1.22383113e-01, 7.36549361e-02, 1.52697768e-01],\n",
       "       [0.00000000e+00, 0.00000000e+00, 0.00000000e+00, 0.00000000e+00],\n",
       "       [1.00668082e-01, 1.69377409e-01, 2.85281261e-01, 1.89658932e-01],\n",
       "       [1.49343674e-01, 3.86656586e-01, 2.49655361e-01, 2.60099202e-01],\n",
       "       [3.76213241e-01, 3.70609247e-01, 3.54444906e-01, 6.14369561e-01],\n",
       "       [6.32172576e-01, 6.40844173e-01, 7.21908841e-01, 6.06633987e-01],\n",
       "       [1.54793207e-01, 5.84797694e-02, 1.82485102e-01, 1.57401478e-01],\n",
       "       [0.00000000e+00, 0.00000000e+00, 0.00000000e+00, 0.00000000e+00],\n",
       "       [0.00000000e+00, 0.00000000e+00, 0.00000000e+00, 0.00000000e+00],\n",
       "       [9.27532870e-04, 7.41954507e-02, 1.63572205e-02, 2.35975365e-02],\n",
       "       [5.38385408e-02, 9.19305661e-02, 1.11286948e-01, 2.16239297e-01],\n",
       "       [2.98367695e-01, 6.92373691e-02, 1.27743606e-01, 1.59245336e-01],\n",
       "       [0.00000000e+00, 0.00000000e+00, 0.00000000e+00, 0.00000000e+00],\n",
       "       [4.08404057e-01, 6.72279544e-01, 8.49532450e-01, 3.79398478e-01],\n",
       "       [6.14382814e-02, 1.85631940e-02, 5.08358538e-02, 9.95240808e-02],\n",
       "       [0.00000000e+00, 0.00000000e+00, 0.00000000e+00, 0.00000000e+00],\n",
       "       [8.00247571e-06, 1.59098005e-03, 0.00000000e+00, 0.00000000e+00],\n",
       "       [2.07744886e-02, 0.00000000e+00, 0.00000000e+00, 0.00000000e+00],\n",
       "       [0.00000000e+00, 0.00000000e+00, 0.00000000e+00, 0.00000000e+00],\n",
       "       [3.00547922e-01, 1.16191202e-01, 1.09988069e-01, 6.52973846e-02],\n",
       "       [0.00000000e+00, 0.00000000e+00, 0.00000000e+00, 0.00000000e+00],\n",
       "       [5.76763654e-01, 7.05951356e-01, 9.43351178e-01, 4.52258151e-01],\n",
       "       [4.15112257e-02, 3.87558898e-03, 1.09299955e-02, 5.76681453e-03],\n",
       "       [5.86715789e-03, 2.89968257e-04, 9.69117557e-08, 8.70695887e-04],\n",
       "       [1.18473728e-07, 9.87959964e-06, 0.00000000e+00, 4.16802060e-04],\n",
       "       [0.00000000e+00, 0.00000000e+00, 0.00000000e+00, 0.00000000e+00],\n",
       "       [3.20416542e-03, 1.16240045e-01, 2.77896351e-03, 2.46494633e-02],\n",
       "       [9.69670022e-02, 1.75460976e-01, 5.16249856e-01, 1.83867532e-01],\n",
       "       [1.21500086e-01, 8.18374616e-01, 2.15035845e-01, 3.56419279e-01],\n",
       "       [0.00000000e+00, 0.00000000e+00, 0.00000000e+00, 0.00000000e+00]])"
      ]
     },
     "execution_count": 22,
     "metadata": {},
     "output_type": "execute_result"
    }
   ],
   "source": [
    "agent.q_table"
   ]
  },
  {
   "cell_type": "code",
   "execution_count": 25,
   "id": "b64e4725",
   "metadata": {},
   "outputs": [
    {
     "data": {
      "text/plain": [
       "(np.float64(0.66), np.float64(0.0))"
      ]
     },
     "execution_count": 25,
     "metadata": {},
     "output_type": "execute_result"
    }
   ],
   "source": [
    "agent.evaluate(50, 100, 500)"
   ]
  },
  {
   "cell_type": "code",
   "execution_count": 26,
   "id": "8fa6007d",
   "metadata": {},
   "outputs": [
    {
     "data": {
      "text/plain": [
       "(100, 512, 512, 3)"
      ]
     },
     "execution_count": 26,
     "metadata": {},
     "output_type": "execute_result"
    }
   ],
   "source": [
    "env = gym.make('FrozenLake-v1', map_name = \"8x8\", is_slippery = False, render_mode='rgb_array')\n",
    "\n",
    "frames = record_video(env, agent.q_table)\n",
    "\n",
    "np.array(frames).shape"
   ]
  },
  {
   "cell_type": "code",
   "execution_count": 17,
   "id": "0d7285ff",
   "metadata": {},
   "outputs": [],
   "source": [
    "for frame in frames:\n",
    "    cv2.imshow('test', frame)\n",
    "\n",
    "    cv2.waitKey(100)\n",
    "\n",
    "cv2.destroyAllWindows()"
   ]
  },
  {
   "cell_type": "markdown",
   "id": "3670be2c",
   "metadata": {},
   "source": [
    "### Taxi-v3"
   ]
  },
  {
   "cell_type": "code",
   "execution_count": 27,
   "id": "36a399c4",
   "metadata": {},
   "outputs": [
    {
     "name": "stderr",
     "output_type": "stream",
     "text": [
      "100%|██████████| 20000/20000 [00:23<00:00, 861.43it/s] "
     ]
    },
    {
     "name": "stdout",
     "output_type": "stream",
     "text": [
      "Trening zakończony!\n"
     ]
    },
    {
     "name": "stderr",
     "output_type": "stream",
     "text": [
      "\n"
     ]
    }
   ],
   "source": [
    "env = gym.make('Taxi-v3')\n",
    "\n",
    "agent = Q_Learn(epsilon=0.9, gamma=0.99, lr=0.1, env=env)\n",
    "\n",
    "agent.train(20000, 100)"
   ]
  },
  {
   "cell_type": "code",
   "execution_count": 28,
   "id": "783c158e",
   "metadata": {},
   "outputs": [
    {
     "data": {
      "text/plain": [
       "array([[ 0.        ,  0.        ,  0.        ,  0.        ,  0.        ,\n",
       "         0.        ],\n",
       "       [ 7.44059051,  8.525849  ,  7.44059051,  8.525849  ,  9.6220697 ,\n",
       "        -0.474151  ],\n",
       "       [11.84784175, 12.97761793, 11.84784175, 12.97761793, 14.11880599,\n",
       "         3.97761793],\n",
       "       ...,\n",
       "       [14.07539045, 15.2715212 , 14.06566413, 12.92864593,  5.0887527 ,\n",
       "         5.09508088],\n",
       "       [ 9.6194383 , 10.7227343 ,  9.62018644, 10.72936333,  0.6169259 ,\n",
       "         0.61966805],\n",
       "       [17.61199987, 16.43587583, 17.6119993 , 18.8       ,  8.61199815,\n",
       "         8.61199966]], shape=(500, 6))"
      ]
     },
     "execution_count": 28,
     "metadata": {},
     "output_type": "execute_result"
    }
   ],
   "source": [
    "agent.q_table"
   ]
  },
  {
   "cell_type": "code",
   "execution_count": 29,
   "id": "7821facd",
   "metadata": {},
   "outputs": [
    {
     "data": {
      "text/plain": [
       "(np.float64(7.3), np.float64(0.0))"
      ]
     },
     "execution_count": 29,
     "metadata": {},
     "output_type": "execute_result"
    }
   ],
   "source": [
    "agent.evaluate(50, 100, 500)"
   ]
  },
  {
   "cell_type": "code",
   "execution_count": 30,
   "id": "b8651f49",
   "metadata": {},
   "outputs": [
    {
     "data": {
      "text/plain": [
       "(12, 350, 550, 3)"
      ]
     },
     "execution_count": 30,
     "metadata": {},
     "output_type": "execute_result"
    }
   ],
   "source": [
    "env = gym.make('Taxi-v3', render_mode='rgb_array')\n",
    "frames = record_video(env, agent.q_table)\n",
    "\n",
    "np.array(frames).shape"
   ]
  },
  {
   "cell_type": "code",
   "execution_count": 31,
   "id": "228fd9e9",
   "metadata": {},
   "outputs": [],
   "source": [
    "for frame in frames:\n",
    "    cv2.imshow('test', frame)\n",
    "\n",
    "    cv2.waitKey(1000)\n",
    "\n",
    "cv2.destroyAllWindows()"
   ]
  },
  {
   "cell_type": "code",
   "execution_count": null,
   "id": "bc88dff9",
   "metadata": {},
   "outputs": [],
   "source": []
  }
 ],
 "metadata": {
  "kernelspec": {
   "display_name": "RL venv",
   "language": "python",
   "name": "python3"
  },
  "language_info": {
   "codemirror_mode": {
    "name": "ipython",
    "version": 3
   },
   "file_extension": ".py",
   "mimetype": "text/x-python",
   "name": "python",
   "nbconvert_exporter": "python",
   "pygments_lexer": "ipython3",
   "version": "3.11.13"
  }
 },
 "nbformat": 4,
 "nbformat_minor": 5
}
