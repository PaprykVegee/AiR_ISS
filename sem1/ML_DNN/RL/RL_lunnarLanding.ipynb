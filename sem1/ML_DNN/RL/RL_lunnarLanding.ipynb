{
 "cells": [
  {
   "cell_type": "markdown",
   "id": "c9ece746",
   "metadata": {},
   "source": [
    "### RL lunnar landing"
   ]
  },
  {
   "cell_type": "markdown",
   "id": "dcda7777",
   "metadata": {},
   "source": [
    "Włączneie zdalnego ekranu"
   ]
  },
  {
   "cell_type": "code",
   "execution_count": null,
   "id": "4f0b8b57",
   "metadata": {},
   "outputs": [],
   "source": [
    "from pyvirtualdisplay import Display\n",
    "\n",
    "virtual_display = Display(visible=0, size=(1400, 900))\n",
    "virtual_display.start()"
   ]
  },
  {
   "cell_type": "code",
   "execution_count": 12,
   "id": "3e35a5dd",
   "metadata": {},
   "outputs": [],
   "source": [
    "import gymnasium\n",
    "\n",
    "from huggingface_sb3 import load_from_hub, package_to_hub\n",
    "from huggingface_hub import notebook_login # To log to our Hugging Face account to be able to upload models to the Hub.\n",
    "\n",
    "from stable_baselines3 import PPO\n",
    "from stable_baselines3.common.env_util import make_vec_env\n",
    "from stable_baselines3.common.evaluation import evaluate_policy\n",
    "from stable_baselines3.common.monitor import Monitor"
   ]
  },
  {
   "cell_type": "markdown",
   "id": "de7bded0",
   "metadata": {},
   "source": [
    "### Tworzenie środowiska do uczenia modelu i spawdzenie tego co to srodowisko wraca."
   ]
  },
  {
   "cell_type": "code",
   "execution_count": 25,
   "id": "3829ab98",
   "metadata": {},
   "outputs": [
    {
     "name": "stdout",
     "output_type": "stream",
     "text": [
      "Action taken: 2\n",
      "Action taken: 3\n",
      "Action taken: 3\n",
      "Action taken: 0\n",
      "Action taken: 1\n",
      "Action taken: 0\n",
      "Action taken: 3\n",
      "Action taken: 2\n",
      "Action taken: 3\n",
      "Action taken: 1\n",
      "Action taken: 2\n",
      "Action taken: 3\n",
      "Action taken: 2\n",
      "Action taken: 1\n",
      "Action taken: 1\n",
      "Action taken: 3\n",
      "Action taken: 0\n",
      "Action taken: 0\n",
      "Action taken: 3\n",
      "Action taken: 1\n"
     ]
    }
   ],
   "source": [
    "import gymnasium as gym\n",
    "\n",
    "# First, we create our environment called LunarLander-v2\n",
    "env = gym.make(\"LunarLander-v2\")\n",
    "\n",
    "# Then we reset this environment\n",
    "observation, info = env.reset()\n",
    "\n",
    "for _ in range(20):\n",
    "  # Take a random action\n",
    "  action = env.action_space.sample()\n",
    "  print(\"Action taken:\", action)\n",
    "\n",
    "  # Do this action in the environment and get\n",
    "  # next_state, reward, terminated, truncated and info\n",
    "  observation, reward, terminated, truncated, info = env.step(action)\n",
    "\n",
    "  # If the game is terminated (in our case we land, crashed) or truncated (timeout)\n",
    "  if terminated or truncated:\n",
    "      # Reset the environment\n",
    "      print(\"Environment is reset\")\n",
    "      observation, info = env.reset()\n",
    "\n",
    "env.close()"
   ]
  },
  {
   "cell_type": "code",
   "execution_count": 14,
   "id": "1f5d1924",
   "metadata": {},
   "outputs": [
    {
     "name": "stdout",
     "output_type": "stream",
     "text": [
      "_____OBSERVATION SPACE_____ \n",
      "\n",
      "Observation Space Shape (8,)\n",
      "Sample observation [-67.32044   -48.400967   -1.0671839   1.8047749  -1.7064798  -3.2733867\n",
      "   0.6526308   0.9867231]\n"
     ]
    }
   ],
   "source": [
    "# We create our environment with gym.make(\"<name_of_the_environment>\")\n",
    "env = gym.make(\"LunarLander-v2\")\n",
    "env.reset()\n",
    "print(\"_____OBSERVATION SPACE_____ \\n\")\n",
    "print(\"Observation Space Shape\", env.observation_space.shape)\n",
    "print(\"Sample observation\", env.observation_space.sample()) # Get a random observation"
   ]
  },
  {
   "cell_type": "code",
   "execution_count": null,
   "id": "b1fbce5f",
   "metadata": {},
   "outputs": [
    {
     "name": "stdout",
     "output_type": "stream",
     "text": [
      "\n",
      " _____ACTION SPACE_____ \n",
      "\n",
      "Action Space Shape 4\n",
      "Action Space Sample 1\n"
     ]
    }
   ],
   "source": [
    "print(\"\\n _____ACTION SPACE_____ \\n\")\n",
    "print(\"Action Space Shape\", env.action_space.n)\n",
    "print(\"Action Space Sample\", env.action_space.sample()) "
   ]
  },
  {
   "cell_type": "code",
   "execution_count": 16,
   "id": "6b7803bf",
   "metadata": {},
   "outputs": [],
   "source": [
    "# Create the environment\n",
    "env = make_vec_env('LunarLander-v2', n_envs=16)"
   ]
  },
  {
   "cell_type": "code",
   "execution_count": 17,
   "id": "0d191bcf",
   "metadata": {},
   "outputs": [
    {
     "name": "stdout",
     "output_type": "stream",
     "text": [
      "Using cuda device\n"
     ]
    }
   ],
   "source": [
    "# SOLUTION\n",
    "# We added some parameters to accelerate the training\n",
    "model = PPO(\n",
    "    policy = 'MlpPolicy',\n",
    "    env = env,\n",
    "    n_steps = 1024,\n",
    "    batch_size = 64,\n",
    "    n_epochs = 4,\n",
    "    gamma = 0.999,\n",
    "    gae_lambda = 0.98,\n",
    "    ent_coef = 0.01,\n",
    "    verbose=1)"
   ]
  },
  {
   "cell_type": "code",
   "execution_count": null,
   "id": "ae5c1dae",
   "metadata": {},
   "outputs": [],
   "source": [
    "import numpy as np\n",
    "from stable_baselines3.common.callbacks import BaseCallback\n",
    "from tqdm import tqdm\n",
    "\n",
    "# Create a custom callback to show tqdm and ep_rew_mean\n",
    "class ProgressBarCallback(BaseCallback):\n",
    "    def __init__(self, verbose=0):\n",
    "        super(ProgressBarCallback, self).__init__(verbose)\n",
    "        self.episode_rewards = []\n",
    "        self.progress_bar = None\n",
    "        self.total_timesteps = 0  # Initialize total_timesteps here\n",
    "        \n",
    "    def _on_training_start(self):\n",
    "        # Store total_timesteps for the progress bar\n",
    "        self.total_timesteps = self.locals[\"total_timesteps\"]\n",
    "        self.progress_bar = tqdm(total=self.total_timesteps, desc=\"Training Progress\")\n",
    "        \n",
    "    def _on_step(self) -> bool:\n",
    "        # Update progress bar after each step\n",
    "        if self.progress_bar:\n",
    "            self.progress_bar.update(self.model.n_steps)\n",
    "        \n",
    "        return True\n",
    "\n",
    "    def _on_rollout_end(self):\n",
    "        # After each rollout, print the mean reward\n",
    "        mean_reward = np.mean(self.episode_rewards) if len(self.episode_rewards) > 0 else -np.inf\n",
    "        self.progress_bar.set_postfix(ep_rew_mean=mean_reward)\n",
    "        \n",
    "    def _on_training_end(self):\n",
    "        if self.progress_bar:\n",
    "            self.progress_bar.close()\n",
    "\n",
    "\n",
    "callback = ProgressBarCallback()\n",
    "\n",
    "model.learn(total_timesteps=1000000, callback=callback)\n",
    "\n",
    "model_name = \"ppo-LunarLander-v2\"\n",
    "model.save(model_name)\n"
   ]
  },
  {
   "cell_type": "code",
   "execution_count": 22,
   "id": "3638a18c",
   "metadata": {},
   "outputs": [
    {
     "data": {
      "image/png": "[encoded data removed]",
      "text/plain": [
       "<Figure size 640x480 with 1 Axes>"
      ]
     },
     "metadata": {},
     "output_type": "display_data"
    }
   ],
   "source": [
    "import matplotlib.pyplot as plt\n",
    "from IPython.display import display, clear_output\n",
    "import time\n",
    "\n",
    "env = gym.make(\"LunarLander-v2\", render_mode='rgb_array')\n",
    "obs, _ = env.reset()\n",
    "done = False\n",
    "\n",
    "while not done:\n",
    "    action, _ = model.predict(obs, deterministic=True)\n",
    "    obs, reward, terminated, truncated, info = env.step(action)\n",
    "    done = terminated or truncated\n",
    "    frame = env.render()\n",
    "    plt.imshow(frame)\n",
    "    plt.axis('off')\n",
    "    display(plt.gcf())\n",
    "    clear_output(wait=True)\n",
    "    time.sleep(0.05)\n",
    "env.close()\n"
   ]
  },
  {
   "cell_type": "code",
   "execution_count": null,
   "id": "2f8c2d71",
   "metadata": {},
   "outputs": [],
   "source": []
  }
 ],
 "metadata": {
  "kernelspec": {
   "display_name": "RL venv",
   "language": "python",
   "name": "python3"
  },
  "language_info": {
   "codemirror_mode": {
    "name": "ipython",
    "version": 3
   },
   "file_extension": ".py",
   "mimetype": "text/x-python",
   "name": "python",
   "nbconvert_exporter": "python",
   "pygments_lexer": "ipython3",
   "version": "3.11.13"
  }
 },
 "nbformat": 4,
 "nbformat_minor": 5
}
