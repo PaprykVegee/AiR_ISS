{
 "cells": [
  {
   "cell_type": "code",
   "execution_count": 3,
   "metadata": {},
   "outputs": [
    {
     "data": {
      "text/plain": [
       "(240, 360, 3)"
      ]
     },
     "execution_count": 3,
     "metadata": {},
     "output_type": "execute_result"
    }
   ],
   "source": [
    "import cv2\n",
    "import numpy as np\n",
    "import matplotlib.pyplot as plt\n",
    "\n",
    "image_path = r'/home/plorenc/Desktop/AiR_ISS/AVS/pedestrian/ROI.jpg'\n",
    "\n",
    "img = cv2.cvtColor(cv2.imread(image_path), cv2.COLOR_BGR2RGB)\n",
    "img_shape = img.shape\n",
    "img_shape"
   ]
  },
  {
   "cell_type": "code",
   "execution_count": 4,
   "metadata": {},
   "outputs": [],
   "source": [
    "def calculate_f1_score(thresh, I_ref):\n",
    "    # Binaryzacja maski referencyjnej\n",
    "    I_ref = cv2.threshold(I_ref, 127, 255, cv2.THRESH_BINARY)[1]\n",
    "\n",
    "    # Obliczenie True Positives, False Positives, False Negatives\n",
    "    TP = np.sum((thresh == 255) & (I_ref == 255))\n",
    "    FP = np.sum((thresh == 255) & (I_ref == 0))\n",
    "    FN = np.sum((thresh == 0) & (I_ref == 255))\n",
    "\n",
    "    # Oblicz Precision i Recall\n",
    "    precision = TP / (TP + FP) if (TP + FP) > 0 else 0\n",
    "    recall = TP / (TP + FN) if (TP + FN) > 0 else 0\n",
    "\n",
    "    # Oblicz F1-score\n",
    "    f1 = 2 * (precision * recall) / (precision + recall) if (precision + recall) > 0 else 0\n",
    "\n",
    "    return (f1, precision, recall)"
   ]
  },
  {
   "cell_type": "code",
   "execution_count": null,
   "metadata": {},
   "outputs": [],
   "source": [
    "import warnings\n",
    "warnings.filterwarnings('ignore')\n",
    "\n",
    "kernel = np.ones((2, 2), np.uint8)\n",
    "\n",
    "img_ = np.zeros(img_shape[:2]).astype(np.uint8)\n",
    "\n",
    "f1_array = []\n",
    "\n",
    "for i in range(300, 1100, 2):\n",
    "    image_path = \"/home/plorenc/Desktop/AiR_ISS/AVS/pedestrian/input/in%06d.jpg\" % i  \n",
    "    image_path_reference = \"/home/plorenc/Desktop/AiR_ISS/AVS/pedestrian/groundtruth/gt%06d.png\" % i  \n",
    "\n",
    "    I_c = cv2.imread(image_path)\n",
    "    I_ref = cv2.imread(image_path_reference)\n",
    "\n",
    "    I_c = cv2.cvtColor(I_c, cv2.COLOR_BGR2RGB)\n",
    "\n",
    "    I = cv2.cvtColor(I_c, cv2.COLOR_BGR2GRAY).astype(np.uint8)\n",
    "    I_dif = cv2.absdiff(I, img_)\n",
    "    img_ = I\n",
    "\n",
    "    (T, thresh) = cv2.threshold(I_dif, 15, 255, cv2.THRESH_BINARY)  \n",
    "    thresh = cv2.medianBlur(thresh, 5)\n",
    "    thresh = cv2.erode(thresh, kernel=(8, 8), iterations=1)\n",
    "    thresh = cv2.dilate(thresh, kernel=(12, 12), iterations=5)\n",
    "\n",
    "\n",
    "    num_labels, labels, stats, centroids = cv2.connectedComponentsWithStats(thresh, connectivity=8)\n",
    "\n",
    "    if stats.shape[0] > 1:\n",
    "        # Wybieramy komponent o największym obszarze\n",
    "        tab = stats[1:, 4]  # Kolumna 4 zawiera obszar\n",
    "        pi = np.argmax(tab) + 1  # Indeks największego komponentu (dodajemy 1, aby uwzględnić tło)\n",
    "        \n",
    "        # Rysowanie prostokąta wokół największego obiektu\n",
    "        x, y, w, h, area = stats[pi]\n",
    "        cv2.rectangle(I_c, (x, y), (x + w, y + h), (155, 0, 0), 2)\n",
    "        \n",
    "        # Dodanie tekstu z polem obiektu\n",
    "        cv2.putText(I_c, f\"{area:.2f}\", (x, y), cv2.FONT_HERSHEY_SIMPLEX, 0.5, (255, 0, 0))\n",
    "        # Dodanie tekstu z numerem obiektu\n",
    "        cx, cy = centroids[pi]\n",
    "        cv2.putText(I_c, f\"{pi}\", (int(cx), int(cy)), cv2.FONT_HERSHEY_SIMPLEX, 1, (255, 0, 0))\n",
    "\n",
    "    # Łączenie obrazów\n",
    "    combined_image = cv2.hconcat([I_c, cv2.cvtColor(thresh, cv2.COLOR_GRAY2RGB), I_ref])\n",
    "    f1 = calculate_f1_score(thresh, cv2.cvtColor(I_ref, cv2.COLOR_BGR2GRAY))\n",
    "    f1_array.append(f1)\n",
    "    cv2.imshow(f\"IMG\", combined_image)\n",
    "    cv2.waitKey(10)\n",
    "\n",
    "cv2.destroyAllWindows()\n"
   ]
  },
  {
   "cell_type": "code",
   "execution_count": 6,
   "metadata": {},
   "outputs": [],
   "source": [
    "cv2.destroyAllWindows()"
   ]
  },
  {
   "cell_type": "code",
   "execution_count": 7,
   "metadata": {},
   "outputs": [
    {
     "name": "stdout",
     "output_type": "stream",
     "text": [
      "71.619843\n"
     ]
    }
   ],
   "source": [
    "advg = 0\n",
    "num = 0\n",
    "\n",
    "for f in f1_array:\n",
    "    if f[0] != 0:\n",
    "        advg += f[0]\n",
    "        num += 1\n",
    "\n",
    "print(f\"{advg/num*100:2f}\")"
   ]
  },
  {
   "cell_type": "code",
   "execution_count": null,
   "metadata": {},
   "outputs": [],
   "source": []
  }
 ],
 "metadata": {
  "kernelspec": {
   "display_name": "venv",
   "language": "python",
   "name": "python3"
  },
  "language_info": {
   "codemirror_mode": {
    "name": "ipython",
    "version": 3
   },
   "file_extension": ".py",
   "mimetype": "text/x-python",
   "name": "python",
   "nbconvert_exporter": "python",
   "pygments_lexer": "ipython3",
   "version": "3.12.3"
  }
 },
 "nbformat": 4,
 "nbformat_minor": 2
}
